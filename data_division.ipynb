{
 "cells": [
  {
   "cell_type": "markdown",
   "id": "337c1d5e",
   "metadata": {},
   "source": [
    "### Dataset Formation\n",
    "The dataset workedon consist of a total of  3256 original images from 89 patients and there segmented output. The images consist of 4 sub categories:\n",
    "   - Benign\n",
    "   - Early\n",
    "   - Pre\n",
    "   - Pro\n",
    "\n",
    "### Dataset Division\n",
    "To evaluate the model, the dataset was randomly divided with a ratio of 64:20:16 into training, testing, and validation sets respectively."
   ]
  },
  {
   "cell_type": "code",
   "execution_count": 1,
   "id": "43e469d9",
   "metadata": {},
   "outputs": [],
   "source": [
    "import os\n",
    "import splitfolders\n",
    "from dotenv import dotenv_values\n"
   ]
  },
  {
   "cell_type": "code",
   "execution_count": 2,
   "id": "89abcf3c",
   "metadata": {},
   "outputs": [],
   "source": [
    "#get files from .env file\n",
    "config = dotenv_values(\".env\")"
   ]
  },
  {
   "cell_type": "code",
   "execution_count": 3,
   "id": "1491d520",
   "metadata": {},
   "outputs": [],
   "source": [
    "raw_dir = config['RAW_PATH']"
   ]
  },
  {
   "cell_type": "code",
   "execution_count": 4,
   "id": "1672e4f2",
   "metadata": {},
   "outputs": [
    {
     "name": "stdout",
     "output_type": "stream",
     "text": [
      "There are 2 directories and 0 images in 'dataset'.\n",
      "There are 4 directories and 0 images in 'dataset\\Original'.\n",
      "There are 0 directories and 504 images in 'dataset\\Original\\Benign'.\n",
      "There are 0 directories and 985 images in 'dataset\\Original\\Early'.\n",
      "There are 0 directories and 963 images in 'dataset\\Original\\Pre'.\n",
      "There are 0 directories and 804 images in 'dataset\\Original\\Pro'.\n",
      "There are 4 directories and 0 images in 'dataset\\Segmented'.\n",
      "There are 0 directories and 504 images in 'dataset\\Segmented\\Benign'.\n",
      "There are 0 directories and 985 images in 'dataset\\Segmented\\Early'.\n",
      "There are 0 directories and 963 images in 'dataset\\Segmented\\Pre'.\n",
      "There are 0 directories and 804 images in 'dataset\\Segmented\\Pro'.\n"
     ]
    }
   ],
   "source": [
    "#display dataset structure\n",
    "for dirpath, dirnames, filenames in os.walk(raw_dir+'/dataset'):\n",
    "    print(f\"There are {len(dirnames)} directories and {len(filenames)} images in '{dirpath.split('/')[-1]}'.\")"
   ]
  },
  {
   "cell_type": "code",
   "execution_count": 5,
   "id": "32202e17",
   "metadata": {},
   "outputs": [],
   "source": [
    "#filepath where all of the images are stored\n",
    "original_data_path = raw_dir + '/dataset/Original' \n",
    "segmented_data_path = raw_dir + 'dataset/Segmented'\n",
    "\n",
    " #filepath where we want to save copied images\n",
    "original_data_output_path = raw_dir + '/splitDataset/Original'\n",
    "segmented_data_output_path = raw_dir + '/splitDataset/Segmented'"
   ]
  },
  {
   "cell_type": "code",
   "execution_count": null,
   "id": "629ffcd6",
   "metadata": {},
   "outputs": [],
   "source": [
    "#splitting original dataset\n",
    "splitfolders.ratio(original_data_path, output= original_data_output_path, seed=1337, ratio=(0.64, 0.2, 0.16))"
   ]
  },
  {
   "cell_type": "code",
   "execution_count": null,
   "id": "f8eba467",
   "metadata": {},
   "outputs": [],
   "source": [
    "#splitting segmented dataset\n",
    "splitfolders.ratio(segmented_data_path, output = segmented_data_output_path, seed = 1337, ratio = (0.64, 0.2, 0.16))"
   ]
  },
  {
   "cell_type": "code",
   "execution_count": 6,
   "id": "311380ae",
   "metadata": {},
   "outputs": [
    {
     "name": "stdout",
     "output_type": "stream",
     "text": [
      "There are 2 directories and 0 images in 'splitDataset'.\n",
      "There are 3 directories and 0 images in 'splitDataset\\Original'.\n",
      "There are 4 directories and 0 images in 'splitDataset\\Original\\test'.\n",
      "There are 0 directories and 82 images in 'splitDataset\\Original\\test\\Benign'.\n",
      "There are 0 directories and 158 images in 'splitDataset\\Original\\test\\Early'.\n",
      "There are 0 directories and 155 images in 'splitDataset\\Original\\test\\Pre'.\n",
      "There are 0 directories and 130 images in 'splitDataset\\Original\\test\\Pro'.\n",
      "There are 4 directories and 0 images in 'splitDataset\\Original\\train'.\n",
      "There are 0 directories and 322 images in 'splitDataset\\Original\\train\\Benign'.\n",
      "There are 0 directories and 630 images in 'splitDataset\\Original\\train\\Early'.\n",
      "There are 0 directories and 616 images in 'splitDataset\\Original\\train\\Pre'.\n",
      "There are 0 directories and 514 images in 'splitDataset\\Original\\train\\Pro'.\n",
      "There are 4 directories and 0 images in 'splitDataset\\Original\\val'.\n",
      "There are 0 directories and 100 images in 'splitDataset\\Original\\val\\Benign'.\n",
      "There are 0 directories and 197 images in 'splitDataset\\Original\\val\\Early'.\n",
      "There are 0 directories and 192 images in 'splitDataset\\Original\\val\\Pre'.\n",
      "There are 0 directories and 160 images in 'splitDataset\\Original\\val\\Pro'.\n",
      "There are 3 directories and 0 images in 'splitDataset\\Segmented'.\n",
      "There are 4 directories and 0 images in 'splitDataset\\Segmented\\test'.\n",
      "There are 0 directories and 82 images in 'splitDataset\\Segmented\\test\\Benign'.\n",
      "There are 0 directories and 158 images in 'splitDataset\\Segmented\\test\\Early'.\n",
      "There are 0 directories and 155 images in 'splitDataset\\Segmented\\test\\Pre'.\n",
      "There are 0 directories and 130 images in 'splitDataset\\Segmented\\test\\Pro'.\n",
      "There are 4 directories and 0 images in 'splitDataset\\Segmented\\train'.\n",
      "There are 0 directories and 322 images in 'splitDataset\\Segmented\\train\\Benign'.\n",
      "There are 0 directories and 630 images in 'splitDataset\\Segmented\\train\\Early'.\n",
      "There are 0 directories and 616 images in 'splitDataset\\Segmented\\train\\Pre'.\n",
      "There are 0 directories and 514 images in 'splitDataset\\Segmented\\train\\Pro'.\n",
      "There are 4 directories and 0 images in 'splitDataset\\Segmented\\val'.\n",
      "There are 0 directories and 100 images in 'splitDataset\\Segmented\\val\\Benign'.\n",
      "There are 0 directories and 197 images in 'splitDataset\\Segmented\\val\\Early'.\n",
      "There are 0 directories and 192 images in 'splitDataset\\Segmented\\val\\Pre'.\n",
      "There are 0 directories and 160 images in 'splitDataset\\Segmented\\val\\Pro'.\n"
     ]
    }
   ],
   "source": [
    "#display dataset structure after division into train, test, and validation\n",
    "for dirpath, dirnames, filenames in os.walk(raw_dir+'/splitDataset'):\n",
    "    print(f\"There are {len(dirnames)} directories and {len(filenames)} images in '{dirpath.split('/')[-1]}'.\")"
   ]
  },
  {
   "cell_type": "code",
   "execution_count": 7,
   "id": "909c2c32",
   "metadata": {},
   "outputs": [],
   "source": [
    "#Paths to original data\n",
    "org_train_path = raw_dir+'/splitDataset/Original/train'\n",
    "org_val_path = raw_dir+'/splitDataset/Original/val'\n",
    "org_test_path = raw_dir+'/splitDataset/Original/test'\n",
    "\n",
    "#Paths to segmented data\n",
    "seg_train_path = raw_dir+ '/splitDataset/Segmented/train'\n",
    "seg_val_path = raw_dir+ '/splitDataset/Segmented/val'\n",
    "seg_test_path = raw_dir+ '/splitDataset/Segmented/test'"
   ]
  },
  {
   "cell_type": "code",
   "execution_count": 8,
   "id": "47876d71",
   "metadata": {},
   "outputs": [
    {
     "name": "stdout",
     "output_type": "stream",
     "text": [
      "total images in original dataset: 3256\n",
      "total images in segmented dataset: 3256\n"
     ]
    }
   ],
   "source": [
    "#check Number of images in each set\n",
    "#original data\n",
    "org_num_train_images = sum([len(files) for r, d, files in os.walk(org_train_path)])\n",
    "org_num_val_images = sum([len(files) for r, d, files in os.walk(org_val_path)])\n",
    "org_num_test_images = sum([len(files) for r, d, files in os.walk(org_test_path)])\n",
    "print(\"total images in original dataset:\", org_num_train_images + org_num_val_images + org_num_test_images)\n",
    "#segmented data\n",
    "seg_num_train_images = sum([len(files) for r, d, files in os.walk(seg_train_path)])\n",
    "seg_num_val_images = sum([len(files) for r, d, files in os.walk(seg_val_path)])\n",
    "seg_num_test_images = sum([len(files) for r, d, files in os.walk(seg_test_path)])\n",
    "print(\"total images in segmented dataset:\", seg_num_train_images + seg_num_val_images + seg_num_test_images)"
   ]
  }
 ],
 "metadata": {
  "kernelspec": {
   "display_name": "Python 3",
   "language": "python",
   "name": "python3"
  },
  "language_info": {
   "codemirror_mode": {
    "name": "ipython",
    "version": 3
   },
   "file_extension": ".py",
   "mimetype": "text/x-python",
   "name": "python",
   "nbconvert_exporter": "python",
   "pygments_lexer": "ipython3",
   "version": "3.9.12"
  },
  "vscode": {
   "interpreter": {
    "hash": "7679c2132d3f6ce38c9df14d554b39c06862b36a4e6689c81f9ae15bd0911d7d"
   }
  }
 },
 "nbformat": 4,
 "nbformat_minor": 5
}
