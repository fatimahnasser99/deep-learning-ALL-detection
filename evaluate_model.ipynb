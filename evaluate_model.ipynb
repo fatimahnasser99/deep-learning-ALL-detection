{
 "cells": [
  {
   "cell_type": "markdown",
   "id": "d4291426",
   "metadata": {},
   "source": [
    "### Model evaluation\n",
    "- Evaluate model worked using test images.\n",
    "- Show confusion matrix \n",
    "- Show classification report\n"
   ]
  },
  {
   "cell_type": "code",
   "execution_count": 1,
   "id": "47251960",
   "metadata": {},
   "outputs": [],
   "source": [
    "import os\n",
    "import pathlib\n",
    "\n",
    "from dotenv import dotenv_values\n",
    "\n",
    "import numpy as np\n",
    "\n",
    "import tensorflow as tf\n",
    "from tensorflow.keras.models import load_model\n",
    "from tensorflow.keras.preprocessing.image import ImageDataGenerator\n",
    "\n",
    "from scikitplot.metrics import plot_confusion_matrix\n",
    "from sklearn.metrics import classification_report"
   ]
  },
  {
   "cell_type": "code",
   "execution_count": 2,
   "id": "2286ebb6",
   "metadata": {},
   "outputs": [],
   "source": [
    "def evaluation_metrics(actual, predicted):\n",
    "    print(f\"0 = {class_names[0]}, 1 = {class_names[1]}, 2 = {class_names[2]}, 3 = {class_names[3]}\")\n",
    "    print(classification_report(actual, predicted))\n",
    "    plot_confusion_matrix(actual,\n",
    "                          predicted,\n",
    "                          title = \"model 3 confusion matrix\")"
   ]
  },
  {
   "cell_type": "code",
   "execution_count": 3,
   "id": "917ed11c",
   "metadata": {},
   "outputs": [],
   "source": [
    "#get values from .env file\n",
    "config = dotenv_values(\".env\")"
   ]
  },
  {
   "cell_type": "code",
   "execution_count": 4,
   "id": "46215ba9",
   "metadata": {},
   "outputs": [],
   "source": [
    "#assign values in .env to variables\n",
    "raw_dir = config['RAW_PATH']\n",
    "batch_size = int(config['BATCH_SIZE'])\n",
    "img_dim = int(config['DIM']) # image dimension"
   ]
  },
  {
   "cell_type": "code",
   "execution_count": 5,
   "id": "8a017718",
   "metadata": {},
   "outputs": [],
   "source": [
    "#path for segmented testing dataset\n",
    "raw_dir_segmented = raw_dir + '/splitDataset/Segmented'\n",
    "test_dir_sg = pathlib.Path(raw_dir_segmented + '/test/') # turn testing path into a Python path"
   ]
  },
  {
   "cell_type": "code",
   "execution_count": 6,
   "id": "e3a20bc6",
   "metadata": {},
   "outputs": [
    {
     "name": "stdout",
     "output_type": "stream",
     "text": [
      "['Benign' 'Early' 'Pre' 'Pro']\n"
     ]
    }
   ],
   "source": [
    "# create a list of class_names from the subdirectories\n",
    "class_names = np.array(sorted([item.name for item in test_dir_sg.glob('*')])) \n",
    "print(class_names)"
   ]
  },
  {
   "cell_type": "code",
   "execution_count": 7,
   "id": "5e88f0a5",
   "metadata": {},
   "outputs": [],
   "source": [
    "# Load in model and evaluate it\n",
    "model = load_model(\"saved_model/final_model.h5\")"
   ]
  },
  {
   "cell_type": "code",
   "execution_count": 8,
   "id": "037fe8e8",
   "metadata": {},
   "outputs": [],
   "source": [
    "# Create ImageDataGenerator test instance without data augmentation\n",
    "test_datagen = ImageDataGenerator(rescale=1/255.)"
   ]
  },
  {
   "cell_type": "code",
   "execution_count": 9,
   "id": "9c34f4a1",
   "metadata": {},
   "outputs": [
    {
     "name": "stdout",
     "output_type": "stream",
     "text": [
      "Test images:\n",
      "Found 525 images belonging to 4 classes.\n"
     ]
    }
   ],
   "source": [
    "# Create data batches\n",
    "print(\"Test images:\")\n",
    "test_data_sg = test_datagen.flow_from_directory(test_dir_sg,\n",
    "                                                target_size=(img_dim, img_dim),\n",
    "                                                batch_size= batch_size,\n",
    "                                                class_mode='categorical',\n",
    "                                                shuffle=False)"
   ]
  },
  {
   "cell_type": "code",
   "execution_count": 10,
   "id": "1da2af6f",
   "metadata": {},
   "outputs": [],
   "source": [
    "#predict images\n",
    "prediction_result = model.predict(test_data_sg)"
   ]
  },
  {
   "cell_type": "code",
   "execution_count": 11,
   "id": "f4a8e958",
   "metadata": {},
   "outputs": [],
   "source": [
    "#get labels\n",
    "correct_labels = test_data_sg.labels\n",
    "predicted_labels = np.argmax(prediction_result,axis = 1)"
   ]
  },
  {
   "cell_type": "code",
   "execution_count": 12,
   "id": "b7d64dcb",
   "metadata": {},
   "outputs": [
    {
     "name": "stdout",
     "output_type": "stream",
     "text": [
      "0 = Benign, 1 = Early, 2 = Pre, 3 = Pro\n",
      "              precision    recall  f1-score   support\n",
      "\n",
      "           0       1.00      0.96      0.98        82\n",
      "           1       0.99      1.00      1.00       158\n",
      "           2       0.98      0.99      0.99       155\n",
      "           3       1.00      1.00      1.00       130\n",
      "\n",
      "    accuracy                           0.99       525\n",
      "   macro avg       0.99      0.99      0.99       525\n",
      "weighted avg       0.99      0.99      0.99       525\n",
      "\n"
     ]
    },
    {
     "data": {
      "image/png": "[encoded data removed]",
      "text/plain": [
       "<Figure size 432x288 with 2 Axes>"
      ]
     },
     "metadata": {
      "needs_background": "light"
     },
     "output_type": "display_data"
    }
   ],
   "source": [
    "#view results\n",
    "evaluation_metrics(correct_labels, predicted_labels)"
   ]
  },
  {
   "cell_type": "code",
   "execution_count": null,
   "id": "12ed3e0c",
   "metadata": {},
   "outputs": [],
   "source": []
  }
 ],
 "metadata": {
  "kernelspec": {
   "display_name": "Python 3",
   "language": "python",
   "name": "python3"
  },
  "language_info": {
   "codemirror_mode": {
    "name": "ipython",
    "version": 3
   },
   "file_extension": ".py",
   "mimetype": "text/x-python",
   "name": "python",
   "nbconvert_exporter": "python",
   "pygments_lexer": "ipython3",
   "version": "3.9.12"
  }
 },
 "nbformat": 4,
 "nbformat_minor": 5
}
