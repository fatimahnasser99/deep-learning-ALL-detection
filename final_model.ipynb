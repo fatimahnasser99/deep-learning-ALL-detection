{
 "cells": [
  {
   "cell_type": "markdown",
   "id": "5a9731f5",
   "metadata": {},
   "source": [
    "### Final Model - Model 3\n",
    "In this file we build and train model 3 using the structure mentioned in the report. "
   ]
  },
  {
   "cell_type": "code",
   "execution_count": 1,
   "id": "5b700708",
   "metadata": {},
   "outputs": [],
   "source": [
    "import os\n",
    "from dotenv import dotenv_values\n",
    "\n",
    "import tensorflow as tf\n",
    "import tensorflow.keras as keras\n",
    "from keras.preprocessing.image import ImageDataGenerator\n",
    "\n",
    "import matplotlib.pyplot as plt"
   ]
  },
  {
   "cell_type": "code",
   "execution_count": 2,
   "id": "1e826f60",
   "metadata": {},
   "outputs": [],
   "source": [
    "#get files from .env file\n",
    "config = dotenv_values(\".env\")"
   ]
  },
  {
   "cell_type": "code",
   "execution_count": 3,
   "id": "ce5fa141",
   "metadata": {},
   "outputs": [],
   "source": [
    "# define repetitive values\n",
    "raw_dir = config['RAW_PATH']\n",
    "\n",
    "img_dim = int(config['DIM'])\n",
    "batch_size = int(config['BATCH_SIZE'])\n",
    "epoch_nbr = int(config['EPOCH'])\n",
    "\n",
    "input_shape = (img_dim, img_dim, 3)"
   ]
  },
  {
   "cell_type": "code",
   "execution_count": 4,
   "id": "a65b23c2",
   "metadata": {},
   "outputs": [],
   "source": [
    "#in this code we are going to use the segmented dataset as the model's inut\n",
    "\n",
    "#Paths to segmented data\n",
    "seg_train_path = raw_dir + '/splitDataset/Segmented/train'\n",
    "seg_val_path = raw_dir + '/splitDataset/Segmented/val'\n",
    "seg_test_path = raw_dir + '/splitDataset/Segmented/test'"
   ]
  },
  {
   "cell_type": "markdown",
   "id": "d893fb89",
   "metadata": {},
   "source": [
    "#### helper functions"
   ]
  },
  {
   "cell_type": "code",
   "execution_count": 5,
   "id": "c6716bac",
   "metadata": {},
   "outputs": [],
   "source": [
    "# image data generator for train and val datasets\n",
    "# data augmentation is applied only on the traing dataset\n",
    "\n",
    "def image_data_generator():\n",
    "    train_datagen = ImageDataGenerator(rescale = 1./255,\n",
    "                                       rotation_range = 20,\n",
    "                                       horizontal_flip = True,\n",
    "                                       shear_range=0.2, # shear the image\n",
    "                                       zoom_range=0.2, # zoom into the image\n",
    "                                       width_shift_range=0.2, # shift the image width ways\n",
    "                                       height_shift_range=0.2, # shift the image height ways\n",
    "                                      )\n",
    "    \n",
    "    validation_datagen = ImageDataGenerator(rescale=1/255.)\n",
    "    return [train_datagen, validation_datagen]"
   ]
  },
  {
   "cell_type": "code",
   "execution_count": 6,
   "id": "eda46366",
   "metadata": {},
   "outputs": [],
   "source": [
    "# Plot the validation and training data separately\n",
    "def plot_loss_curves(history , metric , val_metric):\n",
    "    \"\"\"\n",
    "    Returns separate loss curves for training and validation metrics.\n",
    "    \"\"\" \n",
    "    loss = history.history['loss']\n",
    "    val_loss = history.history['val_loss']\n",
    "\n",
    "    accuracy = history.history[metric]\n",
    "    val_accuracy = history.history[val_metric]\n",
    "\n",
    "    epochs = range(len(history.history['loss']))\n",
    "\n",
    "    # Plot loss\n",
    "    plt.plot(epochs, loss, label='training_loss')\n",
    "    plt.plot(epochs, val_loss, label='val_loss')\n",
    "    plt.title('Loss')\n",
    "    plt.xlabel('Epochs')\n",
    "    plt.legend()\n",
    "\n",
    "    # Plot accuracy\n",
    "    plt.figure()\n",
    "    plt.plot(epochs, accuracy, label='training_accuracy')\n",
    "    plt.plot(epochs, val_accuracy, label='val_accuracy')\n",
    "    plt.title('Accuracy')\n",
    "    plt.xlabel('Epochs')\n",
    "    plt.legend();"
   ]
  },
  {
   "cell_type": "markdown",
   "id": "d63a3d58",
   "metadata": {},
   "source": [
    "#### build the model"
   ]
  },
  {
   "cell_type": "code",
   "execution_count": 7,
   "id": "66b73ac4",
   "metadata": {},
   "outputs": [],
   "source": [
    "#create data generators\n",
    "train_datagen, val_datagen = image_data_generator()"
   ]
  },
  {
   "cell_type": "code",
   "execution_count": 8,
   "id": "879c0f30",
   "metadata": {},
   "outputs": [
    {
     "name": "stdout",
     "output_type": "stream",
     "text": [
      "\n",
      "Segmented data set\n",
      "Augmented training images:\n",
      "Found 2082 images belonging to 4 classes.\n",
      "validation images:\n",
      "Found 649 images belonging to 4 classes.\n"
     ]
    }
   ],
   "source": [
    "# Create segmented data batches\n",
    "print(\"\\nSegmented data set\")\n",
    "print(\"Augmented training images:\")\n",
    "seg_train_data = train_datagen.flow_from_directory(seg_train_path,\n",
    "                                               target_size=(img_dim, img_dim),\n",
    "                                               batch_size=batch_size,\n",
    "                                               class_mode='categorical',\n",
    "                                               shuffle=True) \n",
    "\n",
    "print(\"validation images:\")\n",
    "seg_val_data = val_datagen.flow_from_directory(seg_val_path,\n",
    "                                             target_size=(img_dim, img_dim),\n",
    "                                             batch_size=batch_size,\n",
    "                                             class_mode='categorical')"
   ]
  },
  {
   "cell_type": "code",
   "execution_count": 9,
   "id": "31eeb872",
   "metadata": {},
   "outputs": [],
   "source": [
    "# feature block\n",
    "\n",
    "densenet_model = keras.applications.DenseNet201(include_top=False,\n",
    "                                                weights=\"imagenet\",\n",
    "                                                input_tensor=None,\n",
    "                                                input_shape=input_shape,\n",
    "                                                pooling=None)"
   ]
  },
  {
   "cell_type": "code",
   "execution_count": 10,
   "id": "aa0ba228",
   "metadata": {},
   "outputs": [
    {
     "name": "stdout",
     "output_type": "stream",
     "text": [
      "nbr of trainable layers =  224\n"
     ]
    }
   ],
   "source": [
    "# with training case\n",
    "# By setting the trainable property of this model we created to True,\n",
    "# we allow the weights in trainable layers to be updated. \n",
    "\n",
    "densenet_model.trainable = True\n",
    "count = 0\n",
    "for layer in densenet_model.layers:\n",
    "    if 'conv5' in layer.name:\n",
    "        count = count + 1\n",
    "        layer.trainable = True\n",
    "    else:\n",
    "        layer.trainable = False\n",
    "\n",
    "print('nbr of trainable layers = ', count)"
   ]
  },
  {
   "cell_type": "code",
   "execution_count": 11,
   "id": "cff79a0b",
   "metadata": {},
   "outputs": [],
   "source": [
    "input = keras.Input(shape=input_shape)\n",
    "\n",
    "layer = densenet_model(inputs=input)\n",
    "\n",
    "#classification block\n",
    "layer = keras.layers.Flatten()(layer)\n",
    "\n",
    "layer = keras.layers.BatchNormalization()(layer)\n",
    "initializer = keras.initializers.he_normal(seed=32)\n",
    "\n",
    "layer = keras.layers.Dense(units=256,\n",
    "                        activation='relu',\n",
    "                        kernel_initializer=initializer\n",
    "                        )(layer)\n",
    "\n",
    "layer = keras.layers.Dropout(0.4)(layer)\n",
    "\n",
    "layer = keras.layers.BatchNormalization()(layer)\n",
    "\n",
    "layer = keras.layers.Dense(units=128,\n",
    "                       activation='relu',\n",
    "                       kernel_initializer=initializer\n",
    "                       )(layer)\n",
    "\n",
    "layer = keras.layers.Dropout(0.4)(layer)\n",
    "\n",
    "layer = keras.layers.Dense(units=4,\n",
    "                       activation='softmax',\n",
    "                       kernel_initializer=initializer\n",
    "                       )(layer)\n"
   ]
  },
  {
   "cell_type": "code",
   "execution_count": 12,
   "id": "dd3c6707",
   "metadata": {},
   "outputs": [
    {
     "name": "stdout",
     "output_type": "stream",
     "text": [
      "Model: \"model\"\n",
      "_________________________________________________________________\n",
      "Layer (type)                 Output Shape              Param #   \n",
      "=================================================================\n",
      "input_2 (InputLayer)         [(None, 224, 224, 3)]     0         \n",
      "_________________________________________________________________\n",
      "densenet201 (Functional)     (None, 7, 7, 1920)        18321984  \n",
      "_________________________________________________________________\n",
      "flatten (Flatten)            (None, 94080)             0         \n",
      "_________________________________________________________________\n",
      "batch_normalization (BatchNo (None, 94080)             376320    \n",
      "_________________________________________________________________\n",
      "dense (Dense)                (None, 256)               24084736  \n",
      "_________________________________________________________________\n",
      "dropout (Dropout)            (None, 256)               0         \n",
      "_________________________________________________________________\n",
      "batch_normalization_1 (Batch (None, 256)               1024      \n",
      "_________________________________________________________________\n",
      "dense_1 (Dense)              (None, 128)               32896     \n",
      "_________________________________________________________________\n",
      "dropout_1 (Dropout)          (None, 128)               0         \n",
      "_________________________________________________________________\n",
      "dense_2 (Dense)              (None, 4)                 516       \n",
      "=================================================================\n",
      "Total params: 42,817,476\n",
      "Trainable params: 31,285,380\n",
      "Non-trainable params: 11,532,096\n",
      "_________________________________________________________________\n"
     ]
    }
   ],
   "source": [
    "final_model_densenet201 = keras.models.Model(inputs=input, outputs=layer)\n",
    "final_model_densenet201.summary()"
   ]
  },
  {
   "cell_type": "code",
   "execution_count": 13,
   "id": "5d620a2c",
   "metadata": {},
   "outputs": [],
   "source": [
    "# compile model\n",
    "final_model_densenet201.compile(loss='binary_crossentropy',\n",
    "                                optimizer=keras.optimizers.Adam(),\n",
    "                                metrics=['accuracy'])"
   ]
  },
  {
   "cell_type": "code",
   "execution_count": 14,
   "id": "ffa45a11",
   "metadata": {
    "scrolled": true
   },
   "outputs": [
    {
     "name": "stdout",
     "output_type": "stream",
     "text": [
      "Epoch 1/100\n",
      "66/66 [==============================] - 1026s 15s/step - loss: 0.2077 - accuracy: 0.8694 - val_loss: 0.1242 - val_accuracy: 0.9353\n",
      "Epoch 2/100\n",
      "66/66 [==============================] - 714s 11s/step - loss: 0.0959 - accuracy: 0.9361 - val_loss: 0.0470 - val_accuracy: 0.9707\n",
      "Epoch 3/100\n",
      "66/66 [==============================] - 737s 11s/step - loss: 0.0869 - accuracy: 0.9433 - val_loss: 0.0624 - val_accuracy: 0.9584\n",
      "Epoch 4/100\n",
      "66/66 [==============================] - 633s 10s/step - loss: 0.0609 - accuracy: 0.9635 - val_loss: 0.0289 - val_accuracy: 0.9800\n",
      "Epoch 5/100\n",
      "66/66 [==============================] - 624s 9s/step - loss: 0.0551 - accuracy: 0.9659 - val_loss: 0.1018 - val_accuracy: 0.9461\n",
      "Epoch 6/100\n",
      "66/66 [==============================] - 623s 9s/step - loss: 0.0494 - accuracy: 0.9664 - val_loss: 0.0219 - val_accuracy: 0.9846\n",
      "Epoch 7/100\n",
      "66/66 [==============================] - 725s 11s/step - loss: 0.0438 - accuracy: 0.9712 - val_loss: 0.0578 - val_accuracy: 0.9769\n",
      "Epoch 8/100\n",
      "66/66 [==============================] - 641s 10s/step - loss: 0.0554 - accuracy: 0.9616 - val_loss: 0.0334 - val_accuracy: 0.9784\n",
      "Epoch 9/100\n",
      "66/66 [==============================] - 622s 9s/step - loss: 0.0523 - accuracy: 0.9678 - val_loss: 0.0187 - val_accuracy: 0.9877\n",
      "Epoch 10/100\n",
      "66/66 [==============================] - 630s 10s/step - loss: 0.0794 - accuracy: 0.9457 - val_loss: 0.1021 - val_accuracy: 0.9414\n",
      "Epoch 11/100\n",
      "66/66 [==============================] - 657s 10s/step - loss: 0.0685 - accuracy: 0.9563 - val_loss: 0.0573 - val_accuracy: 0.9676\n",
      "Epoch 12/100\n",
      "66/66 [==============================] - 655s 10s/step - loss: 0.0514 - accuracy: 0.9649 - val_loss: 0.0585 - val_accuracy: 0.9692\n",
      "Epoch 13/100\n",
      "66/66 [==============================] - 604s 9s/step - loss: 0.0379 - accuracy: 0.9741 - val_loss: 0.0368 - val_accuracy: 0.9815\n",
      "Epoch 14/100\n",
      "66/66 [==============================] - 602s 9s/step - loss: 0.0397 - accuracy: 0.9745 - val_loss: 0.0168 - val_accuracy: 0.9877\n",
      "Epoch 15/100\n",
      "66/66 [==============================] - 609s 9s/step - loss: 0.0415 - accuracy: 0.9721 - val_loss: 0.0294 - val_accuracy: 0.9877\n",
      "Epoch 16/100\n",
      "66/66 [==============================] - 618s 9s/step - loss: 0.0419 - accuracy: 0.9755 - val_loss: 0.0318 - val_accuracy: 0.9738\n",
      "Epoch 17/100\n",
      "66/66 [==============================] - 639s 10s/step - loss: 0.0479 - accuracy: 0.9707 - val_loss: 0.0216 - val_accuracy: 0.9831\n",
      "Epoch 18/100\n",
      "66/66 [==============================] - 630s 10s/step - loss: 0.0455 - accuracy: 0.9693 - val_loss: 0.0553 - val_accuracy: 0.9676\n",
      "Epoch 19/100\n",
      "66/66 [==============================] - 621s 9s/step - loss: 0.0481 - accuracy: 0.9659 - val_loss: 0.0350 - val_accuracy: 0.9815\n",
      "Epoch 20/100\n",
      "66/66 [==============================] - 621s 9s/step - loss: 0.0546 - accuracy: 0.9640 - val_loss: 0.0553 - val_accuracy: 0.9723\n",
      "Epoch 21/100\n",
      "66/66 [==============================] - 619s 9s/step - loss: 0.0485 - accuracy: 0.9683 - val_loss: 0.3433 - val_accuracy: 0.8043\n",
      "Epoch 22/100\n",
      "66/66 [==============================] - 594s 9s/step - loss: 0.0473 - accuracy: 0.9731 - val_loss: 0.0347 - val_accuracy: 0.9723\n",
      "Epoch 23/100\n",
      "66/66 [==============================] - 623s 9s/step - loss: 0.0442 - accuracy: 0.9707 - val_loss: 0.0391 - val_accuracy: 0.9738\n",
      "Epoch 24/100\n",
      "66/66 [==============================] - 679s 10s/step - loss: 0.0330 - accuracy: 0.9717 - val_loss: 0.0481 - val_accuracy: 0.9707\n",
      "Epoch 25/100\n",
      "66/66 [==============================] - 683s 10s/step - loss: 0.0397 - accuracy: 0.9731 - val_loss: 0.0396 - val_accuracy: 0.9753\n",
      "Epoch 26/100\n",
      "66/66 [==============================] - 655s 10s/step - loss: 0.0347 - accuracy: 0.9779 - val_loss: 0.0329 - val_accuracy: 0.9815\n",
      "Epoch 27/100\n",
      "66/66 [==============================] - 652s 10s/step - loss: 0.0535 - accuracy: 0.9649 - val_loss: 0.0276 - val_accuracy: 0.9846\n",
      "Epoch 28/100\n",
      "66/66 [==============================] - 617s 9s/step - loss: 0.0346 - accuracy: 0.9712 - val_loss: 0.0184 - val_accuracy: 0.9861\n",
      "Epoch 29/100\n",
      "66/66 [==============================] - 600s 9s/step - loss: 0.0325 - accuracy: 0.9760 - val_loss: 0.0323 - val_accuracy: 0.9800\n",
      "Epoch 30/100\n",
      "66/66 [==============================] - 685s 10s/step - loss: 0.0479 - accuracy: 0.9669 - val_loss: 0.0225 - val_accuracy: 0.9800\n",
      "Epoch 31/100\n",
      "66/66 [==============================] - 723s 11s/step - loss: 0.0353 - accuracy: 0.9793 - val_loss: 0.0418 - val_accuracy: 0.9769\n",
      "Epoch 32/100\n",
      "66/66 [==============================] - 596s 9s/step - loss: 0.0323 - accuracy: 0.9769 - val_loss: 0.0345 - val_accuracy: 0.9738\n",
      "Epoch 33/100\n",
      "66/66 [==============================] - 611s 9s/step - loss: 0.0375 - accuracy: 0.9731 - val_loss: 0.0331 - val_accuracy: 0.9784\n",
      "Epoch 34/100\n",
      "66/66 [==============================] - 598s 9s/step - loss: 0.0288 - accuracy: 0.9827 - val_loss: 0.0159 - val_accuracy: 0.9908\n",
      "Epoch 35/100\n",
      "66/66 [==============================] - 597s 9s/step - loss: 0.0279 - accuracy: 0.9808 - val_loss: 0.0406 - val_accuracy: 0.9753\n",
      "Epoch 36/100\n",
      "66/66 [==============================] - 590s 9s/step - loss: 0.0302 - accuracy: 0.9817 - val_loss: 0.0473 - val_accuracy: 0.9692\n",
      "Epoch 37/100\n",
      "66/66 [==============================] - 592s 9s/step - loss: 0.0223 - accuracy: 0.9856 - val_loss: 0.0191 - val_accuracy: 0.9846\n",
      "Epoch 38/100\n",
      "66/66 [==============================] - 592s 9s/step - loss: 0.0223 - accuracy: 0.9846 - val_loss: 0.0243 - val_accuracy: 0.9877\n",
      "Epoch 39/100\n",
      "66/66 [==============================] - 594s 9s/step - loss: 0.0298 - accuracy: 0.9827 - val_loss: 0.0179 - val_accuracy: 0.9923\n",
      "Epoch 40/100\n",
      "66/66 [==============================] - 590s 9s/step - loss: 0.0289 - accuracy: 0.9822 - val_loss: 0.0251 - val_accuracy: 0.9815\n",
      "Epoch 41/100\n",
      "66/66 [==============================] - 588s 9s/step - loss: 0.0195 - accuracy: 0.9885 - val_loss: 0.0223 - val_accuracy: 0.9831\n",
      "Epoch 42/100\n",
      "66/66 [==============================] - 591s 9s/step - loss: 0.0389 - accuracy: 0.9755 - val_loss: 0.0226 - val_accuracy: 0.9815\n",
      "Epoch 43/100\n",
      "66/66 [==============================] - 597s 9s/step - loss: 0.0426 - accuracy: 0.9721 - val_loss: 0.1590 - val_accuracy: 0.9230\n",
      "Epoch 44/100\n",
      "66/66 [==============================] - 673s 10s/step - loss: 0.0386 - accuracy: 0.9721 - val_loss: 0.0479 - val_accuracy: 0.9723\n",
      "Epoch 45/100\n",
      "66/66 [==============================] - 676s 10s/step - loss: 0.0349 - accuracy: 0.9760 - val_loss: 0.0289 - val_accuracy: 0.9815\n",
      "Epoch 46/100\n",
      "66/66 [==============================] - 677s 10s/step - loss: 0.0342 - accuracy: 0.9774 - val_loss: 0.0350 - val_accuracy: 0.9753\n",
      "Epoch 47/100\n",
      "66/66 [==============================] - 676s 10s/step - loss: 0.0386 - accuracy: 0.9741 - val_loss: 0.0978 - val_accuracy: 0.9476\n",
      "Epoch 48/100\n",
      "66/66 [==============================] - 673s 10s/step - loss: 0.0413 - accuracy: 0.9774 - val_loss: 0.0252 - val_accuracy: 0.9815\n",
      "Epoch 49/100\n",
      "66/66 [==============================] - 679s 10s/step - loss: 0.0311 - accuracy: 0.9803 - val_loss: 0.0300 - val_accuracy: 0.9800\n",
      "Epoch 50/100\n",
      "66/66 [==============================] - 678s 10s/step - loss: 0.0252 - accuracy: 0.9837 - val_loss: 0.0386 - val_accuracy: 0.9815\n",
      "Epoch 51/100\n",
      "66/66 [==============================] - 592s 9s/step - loss: 0.0200 - accuracy: 0.9856 - val_loss: 0.0343 - val_accuracy: 0.9831\n",
      "Epoch 52/100\n",
      "66/66 [==============================] - 680s 10s/step - loss: 0.0277 - accuracy: 0.9817 - val_loss: 0.0227 - val_accuracy: 0.9861\n",
      "Epoch 53/100\n",
      "66/66 [==============================] - 653s 10s/step - loss: 0.0230 - accuracy: 0.9851 - val_loss: 0.0299 - val_accuracy: 0.9769\n",
      "Epoch 54/100\n",
      "66/66 [==============================] - 625s 9s/step - loss: 0.0249 - accuracy: 0.9851 - val_loss: 0.0259 - val_accuracy: 0.9846\n",
      "Epoch 55/100\n",
      "66/66 [==============================] - 612s 9s/step - loss: 0.0284 - accuracy: 0.9837 - val_loss: 0.0357 - val_accuracy: 0.9815\n",
      "Epoch 56/100\n",
      "66/66 [==============================] - 633s 10s/step - loss: 0.0243 - accuracy: 0.9837 - val_loss: 0.0199 - val_accuracy: 0.9877\n",
      "Epoch 57/100\n",
      "66/66 [==============================] - 660s 10s/step - loss: 0.0183 - accuracy: 0.9846 - val_loss: 0.0207 - val_accuracy: 0.9908\n",
      "Epoch 58/100\n"
     ]
    },
    {
     "name": "stdout",
     "output_type": "stream",
     "text": [
      "66/66 [==============================] - 648s 10s/step - loss: 0.0143 - accuracy: 0.9899 - val_loss: 0.0228 - val_accuracy: 0.9846\n",
      "Epoch 59/100\n",
      "66/66 [==============================] - 646s 10s/step - loss: 0.0171 - accuracy: 0.9885 - val_loss: 0.0174 - val_accuracy: 0.9861\n",
      "Epoch 60/100\n",
      "66/66 [==============================] - 628s 10s/step - loss: 0.0298 - accuracy: 0.9808 - val_loss: 0.0144 - val_accuracy: 0.9923\n",
      "Epoch 61/100\n",
      "66/66 [==============================] - 639s 10s/step - loss: 0.0254 - accuracy: 0.9808 - val_loss: 0.0399 - val_accuracy: 0.9738\n",
      "Epoch 62/100\n",
      "66/66 [==============================] - 627s 10s/step - loss: 0.0244 - accuracy: 0.9837 - val_loss: 0.0327 - val_accuracy: 0.9753\n",
      "Epoch 63/100\n",
      "66/66 [==============================] - 658s 10s/step - loss: 0.0309 - accuracy: 0.9832 - val_loss: 0.0242 - val_accuracy: 0.9800\n",
      "Epoch 64/100\n",
      "66/66 [==============================] - 660s 10s/step - loss: 0.0198 - accuracy: 0.9894 - val_loss: 0.0287 - val_accuracy: 0.9769\n",
      "Epoch 65/100\n",
      "66/66 [==============================] - 895s 14s/step - loss: 0.0148 - accuracy: 0.9909 - val_loss: 0.0297 - val_accuracy: 0.9784\n",
      "Epoch 66/100\n",
      "66/66 [==============================] - 1050s 16s/step - loss: 0.0394 - accuracy: 0.9731 - val_loss: 1.2453 - val_accuracy: 0.6348\n",
      "Epoch 67/100\n",
      "66/66 [==============================] - 1033s 16s/step - loss: 0.0568 - accuracy: 0.9601 - val_loss: 0.0627 - val_accuracy: 0.9569\n",
      "Epoch 68/100\n",
      "66/66 [==============================] - 1039s 16s/step - loss: 0.0425 - accuracy: 0.9745 - val_loss: 0.0264 - val_accuracy: 0.9846\n",
      "Epoch 69/100\n",
      "66/66 [==============================] - 1043s 16s/step - loss: 0.0352 - accuracy: 0.9765 - val_loss: 0.0245 - val_accuracy: 0.9846\n",
      "Epoch 70/100\n",
      "66/66 [==============================] - 1037s 16s/step - loss: 0.0429 - accuracy: 0.9741 - val_loss: 0.0177 - val_accuracy: 0.9861\n",
      "Epoch 71/100\n",
      "66/66 [==============================] - 1058s 16s/step - loss: 0.0631 - accuracy: 0.9582 - val_loss: 0.1511 - val_accuracy: 0.9029\n",
      "Epoch 72/100\n",
      "66/66 [==============================] - 1052s 16s/step - loss: 0.0519 - accuracy: 0.9678 - val_loss: 0.0384 - val_accuracy: 0.9738\n",
      "Epoch 73/100\n",
      "66/66 [==============================] - 1071s 16s/step - loss: 0.0355 - accuracy: 0.9760 - val_loss: 0.0309 - val_accuracy: 0.9738\n",
      "Epoch 74/100\n",
      "66/66 [==============================] - 1048s 16s/step - loss: 0.0361 - accuracy: 0.9774 - val_loss: 0.0197 - val_accuracy: 0.9846\n",
      "Epoch 75/100\n",
      "66/66 [==============================] - 1054s 16s/step - loss: 0.0341 - accuracy: 0.9779 - val_loss: 0.0188 - val_accuracy: 0.9877\n",
      "Epoch 76/100\n",
      "66/66 [==============================] - 1040s 16s/step - loss: 0.0372 - accuracy: 0.9789 - val_loss: 0.0525 - val_accuracy: 0.9661\n",
      "Epoch 77/100\n",
      "66/66 [==============================] - 1116s 17s/step - loss: 0.0325 - accuracy: 0.9755 - val_loss: 0.0342 - val_accuracy: 0.9738\n",
      "Epoch 78/100\n",
      "66/66 [==============================] - 1067s 16s/step - loss: 0.0320 - accuracy: 0.9789 - val_loss: 0.0233 - val_accuracy: 0.9846\n",
      "Epoch 79/100\n",
      "66/66 [==============================] - 1040s 16s/step - loss: 0.0303 - accuracy: 0.9817 - val_loss: 0.0291 - val_accuracy: 0.9815\n",
      "Epoch 80/100\n",
      "66/66 [==============================] - 1048s 16s/step - loss: 0.0241 - accuracy: 0.9837 - val_loss: 0.0182 - val_accuracy: 0.9815\n",
      "Epoch 81/100\n",
      "66/66 [==============================] - 1042s 16s/step - loss: 0.0307 - accuracy: 0.9798 - val_loss: 0.0245 - val_accuracy: 0.9784\n",
      "Epoch 82/100\n",
      "66/66 [==============================] - 1089s 17s/step - loss: 0.0357 - accuracy: 0.9793 - val_loss: 0.0857 - val_accuracy: 0.9461\n",
      "Epoch 83/100\n",
      "66/66 [==============================] - 1039s 16s/step - loss: 0.0244 - accuracy: 0.9837 - val_loss: 0.0527 - val_accuracy: 0.9676\n",
      "Epoch 84/100\n",
      "66/66 [==============================] - 1031s 16s/step - loss: 0.0261 - accuracy: 0.9803 - val_loss: 0.0214 - val_accuracy: 0.9800\n",
      "Epoch 85/100\n",
      "66/66 [==============================] - 1039s 16s/step - loss: 0.0231 - accuracy: 0.9832 - val_loss: 0.0322 - val_accuracy: 0.9753\n",
      "Epoch 86/100\n",
      "66/66 [==============================] - 1040s 16s/step - loss: 0.0264 - accuracy: 0.9827 - val_loss: 0.0259 - val_accuracy: 0.9800\n",
      "Epoch 87/100\n",
      "66/66 [==============================] - 1045s 16s/step - loss: 0.0276 - accuracy: 0.9813 - val_loss: 0.0282 - val_accuracy: 0.9800\n",
      "Epoch 88/100\n",
      "66/66 [==============================] - 1038s 16s/step - loss: 0.0187 - accuracy: 0.9890 - val_loss: 0.0309 - val_accuracy: 0.9831\n",
      "Epoch 89/100\n",
      "66/66 [==============================] - 1031s 16s/step - loss: 0.0252 - accuracy: 0.9841 - val_loss: 0.0247 - val_accuracy: 0.9815\n",
      "Epoch 90/100\n",
      "66/66 [==============================] - 1036s 16s/step - loss: 0.0242 - accuracy: 0.9841 - val_loss: 0.0293 - val_accuracy: 0.9831\n",
      "Epoch 91/100\n",
      "66/66 [==============================] - 1046s 16s/step - loss: 0.0219 - accuracy: 0.9841 - val_loss: 0.0329 - val_accuracy: 0.9784\n",
      "Epoch 92/100\n",
      "66/66 [==============================] - 1045s 16s/step - loss: 0.0303 - accuracy: 0.9798 - val_loss: 0.0404 - val_accuracy: 0.9738\n",
      "Epoch 93/100\n",
      "66/66 [==============================] - 1039s 16s/step - loss: 0.0243 - accuracy: 0.9817 - val_loss: 0.0447 - val_accuracy: 0.9738\n",
      "Epoch 94/100\n",
      "66/66 [==============================] - 1033s 16s/step - loss: 0.0242 - accuracy: 0.9837 - val_loss: 0.0194 - val_accuracy: 0.9831\n",
      "Epoch 95/100\n",
      "66/66 [==============================] - 1041s 16s/step - loss: 0.0220 - accuracy: 0.9861 - val_loss: 0.0215 - val_accuracy: 0.9861\n",
      "Epoch 96/100\n",
      "66/66 [==============================] - 1039s 16s/step - loss: 0.0233 - accuracy: 0.9861 - val_loss: 0.0196 - val_accuracy: 0.9877\n",
      "Epoch 97/100\n",
      "66/66 [==============================] - 1035s 16s/step - loss: 0.0224 - accuracy: 0.9837 - val_loss: 0.0147 - val_accuracy: 0.9877\n",
      "Epoch 98/100\n",
      "66/66 [==============================] - 1037s 16s/step - loss: 0.0140 - accuracy: 0.9909 - val_loss: 0.0341 - val_accuracy: 0.9831\n",
      "Epoch 99/100\n",
      "66/66 [==============================] - 1038s 16s/step - loss: 0.0230 - accuracy: 0.9817 - val_loss: 0.0215 - val_accuracy: 0.9846\n",
      "Epoch 100/100\n",
      "66/66 [==============================] - 1065s 16s/step - loss: 0.0264 - accuracy: 0.9837 - val_loss: 0.0246 - val_accuracy: 0.9892\n"
     ]
    }
   ],
   "source": [
    "model_history = final_model_densenet201.fit(seg_train_data,\n",
    "                                            epochs=epoch_nbr,\n",
    "                                            steps_per_epoch=len(seg_train_data),\n",
    "                                            validation_data=seg_val_data,\n",
    "                                            validation_steps=len(seg_val_data))"
   ]
  },
  {
   "cell_type": "code",
   "execution_count": 15,
   "id": "681ea619",
   "metadata": {},
   "outputs": [
    {
     "data": {
      "image/png": "[encoded data removed]",
      "text/plain": [
       "<Figure size 432x288 with 1 Axes>"
      ]
     },
     "metadata": {
      "needs_background": "light"
     },
     "output_type": "display_data"
    },
    {
     "data": {
      "image/png": "[encoded data removed]",
      "text/plain": [
       "<Figure size 432x288 with 1 Axes>"
      ]
     },
     "metadata": {
      "needs_background": "light"
     },
     "output_type": "display_data"
    }
   ],
   "source": [
    "plot_loss_curves(model_history , 'accuracy' , 'val_accuracy')"
   ]
  },
  {
   "cell_type": "code",
   "execution_count": 16,
   "id": "42ba8b11",
   "metadata": {},
   "outputs": [],
   "source": [
    "# Save a model\n",
    "final_model_densenet201.save(\"saved_model/final_model.h5\")"
   ]
  },
  {
   "cell_type": "code",
   "execution_count": null,
   "id": "b2f9b171",
   "metadata": {},
   "outputs": [],
   "source": []
  }
 ],
 "metadata": {
  "kernelspec": {
   "display_name": "Python 3",
   "language": "python",
   "name": "python3"
  },
  "language_info": {
   "codemirror_mode": {
    "name": "ipython",
    "version": 3
   },
   "file_extension": ".py",
   "mimetype": "text/x-python",
   "name": "python",
   "nbconvert_exporter": "python",
   "pygments_lexer": "ipython3",
   "version": "3.9.12"
  }
 },
 "nbformat": 4,
 "nbformat_minor": 5
}
