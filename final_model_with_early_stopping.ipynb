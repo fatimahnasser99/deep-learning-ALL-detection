{
 "cells": [
  {
   "cell_type": "markdown",
   "id": "5a9731f5",
   "metadata": {},
   "source": [
    "### Final Model - Model 3\n",
    "In this file we build and train model 3 using the structure mentioned in the report with enhancement using early stopping in training. "
   ]
  },
  {
   "cell_type": "code",
   "execution_count": 1,
   "id": "5b700708",
   "metadata": {},
   "outputs": [],
   "source": [
    "import os\n",
    "from dotenv import dotenv_values\n",
    "\n",
    "import tensorflow as tf\n",
    "import tensorflow.keras as keras\n",
    "from keras.preprocessing.image import ImageDataGenerator\n",
    "\n",
    "import matplotlib.pyplot as plt"
   ]
  },
  {
   "cell_type": "code",
   "execution_count": 2,
   "id": "1e826f60",
   "metadata": {},
   "outputs": [],
   "source": [
    "#get files from .env file\n",
    "config = dotenv_values(\".env\")"
   ]
  },
  {
   "cell_type": "code",
   "execution_count": 3,
   "id": "ce5fa141",
   "metadata": {},
   "outputs": [],
   "source": [
    "# define repetitive values\n",
    "raw_dir = config['RAW_PATH']\n",
    "\n",
    "img_dim = int(config['DIM'])\n",
    "batch_size = int(config['BATCH_SIZE'])\n",
    "epoch_nbr = int(config['EPOCH'])\n",
    "\n",
    "input_shape = (img_dim, img_dim, 3)"
   ]
  },
  {
   "cell_type": "code",
   "execution_count": 4,
   "id": "a65b23c2",
   "metadata": {},
   "outputs": [],
   "source": [
    "#in this code we are going to use the segmented dataset as the model's inut\n",
    "\n",
    "#Paths to segmented data\n",
    "seg_train_path = raw_dir + '/splitDataset/Segmented/train'\n",
    "seg_val_path = raw_dir + '/splitDataset/Segmented/val'\n",
    "seg_test_path = raw_dir + '/splitDataset/Segmented/test'"
   ]
  },
  {
   "cell_type": "markdown",
   "id": "d893fb89",
   "metadata": {},
   "source": [
    "#### helper functions"
   ]
  },
  {
   "cell_type": "code",
   "execution_count": 5,
   "id": "c6716bac",
   "metadata": {},
   "outputs": [],
   "source": [
    "# image data generator for train and val datasets\n",
    "# data augmentation is applied only on the traing dataset\n",
    "\n",
    "def image_data_generator():\n",
    "    train_datagen = ImageDataGenerator(rescale = 1./255,\n",
    "                                       rotation_range = 20,\n",
    "                                       horizontal_flip = True,\n",
    "                                       shear_range=0.2, # shear the image\n",
    "                                       zoom_range=0.2, # zoom into the image\n",
    "                                       width_shift_range=0.2, # shift the image width ways\n",
    "                                       height_shift_range=0.2, # shift the image height ways\n",
    "                                      )\n",
    "    \n",
    "    validation_datagen = ImageDataGenerator(rescale=1/255.)\n",
    "    return [train_datagen, validation_datagen]"
   ]
  },
  {
   "cell_type": "code",
   "execution_count": 6,
   "id": "eda46366",
   "metadata": {},
   "outputs": [],
   "source": [
    "# Plot the validation and training data separately\n",
    "def plot_loss_curves(history , metric , val_metric):\n",
    "    \"\"\"\n",
    "    Returns separate loss curves for training and validation metrics.\n",
    "    \"\"\" \n",
    "    loss = history.history['loss']\n",
    "    val_loss = history.history['val_loss']\n",
    "\n",
    "    accuracy = history.history[metric]\n",
    "    val_accuracy = history.history[val_metric]\n",
    "\n",
    "    epochs = range(len(history.history['loss']))\n",
    "\n",
    "    # Plot loss\n",
    "    plt.plot(epochs, loss, label='training_loss')\n",
    "    plt.plot(epochs, val_loss, label='val_loss')\n",
    "    plt.title('Loss')\n",
    "    plt.xlabel('Epochs')\n",
    "    plt.legend()\n",
    "\n",
    "    # Plot accuracy\n",
    "    plt.figure()\n",
    "    plt.plot(epochs, accuracy, label='training_accuracy')\n",
    "    plt.plot(epochs, val_accuracy, label='val_accuracy')\n",
    "    plt.title('Accuracy')\n",
    "    plt.xlabel('Epochs')\n",
    "    plt.legend();"
   ]
  },
  {
   "cell_type": "markdown",
   "id": "d63a3d58",
   "metadata": {},
   "source": [
    "#### build the model"
   ]
  },
  {
   "cell_type": "code",
   "execution_count": 7,
   "id": "66b73ac4",
   "metadata": {},
   "outputs": [],
   "source": [
    "#create data generators\n",
    "train_datagen, val_datagen = image_data_generator()"
   ]
  },
  {
   "cell_type": "code",
   "execution_count": 8,
   "id": "879c0f30",
   "metadata": {},
   "outputs": [
    {
     "name": "stdout",
     "output_type": "stream",
     "text": [
      "\n",
      "Segmented data set\n",
      "Augmented training images:\n",
      "Found 2082 images belonging to 4 classes.\n",
      "validation images:\n",
      "Found 649 images belonging to 4 classes.\n"
     ]
    }
   ],
   "source": [
    "# Create segmented data batches\n",
    "print(\"\\nSegmented data set\")\n",
    "print(\"Augmented training images:\")\n",
    "seg_train_data = train_datagen.flow_from_directory(seg_train_path,\n",
    "                                               target_size=(img_dim, img_dim),\n",
    "                                               batch_size=batch_size,\n",
    "                                               class_mode='categorical',\n",
    "                                               shuffle=True) \n",
    "\n",
    "print(\"validation images:\")\n",
    "seg_val_data = val_datagen.flow_from_directory(seg_val_path,\n",
    "                                             target_size=(img_dim, img_dim),\n",
    "                                             batch_size=batch_size,\n",
    "                                             class_mode='categorical')"
   ]
  },
  {
   "cell_type": "code",
   "execution_count": 9,
   "id": "31eeb872",
   "metadata": {},
   "outputs": [],
   "source": [
    "# feature block\n",
    "\n",
    "densenet_model = keras.applications.DenseNet201(include_top=False,\n",
    "                                                weights=\"imagenet\",\n",
    "                                                input_tensor=None,\n",
    "                                                input_shape=input_shape,\n",
    "                                                pooling=None)"
   ]
  },
  {
   "cell_type": "code",
   "execution_count": 10,
   "id": "aa0ba228",
   "metadata": {},
   "outputs": [
    {
     "name": "stdout",
     "output_type": "stream",
     "text": [
      "nbr of trainable layers =  224\n"
     ]
    }
   ],
   "source": [
    "# with training case\n",
    "# By setting the trainable property of this model we created to True,\n",
    "# we allow the weights in trainable layers to be updated. \n",
    "\n",
    "densenet_model.trainable = True\n",
    "count = 0\n",
    "for layer in densenet_model.layers:\n",
    "    if 'conv5' in layer.name:\n",
    "        count = count + 1\n",
    "        layer.trainable = True\n",
    "    else:\n",
    "        layer.trainable = False\n",
    "\n",
    "print('nbr of trainable layers = ', count)"
   ]
  },
  {
   "cell_type": "code",
   "execution_count": 11,
   "id": "cff79a0b",
   "metadata": {},
   "outputs": [],
   "source": [
    "input = keras.Input(shape=input_shape)\n",
    "\n",
    "layer = densenet_model(inputs=input)\n",
    "\n",
    "#classification block\n",
    "layer = keras.layers.Flatten()(layer)\n",
    "\n",
    "layer = keras.layers.BatchNormalization()(layer)\n",
    "initializer = keras.initializers.he_normal(seed=32)\n",
    "\n",
    "layer = keras.layers.Dense(units=256,\n",
    "                        activation='relu',\n",
    "                        kernel_initializer=initializer\n",
    "                        )(layer)\n",
    "\n",
    "layer = keras.layers.Dropout(0.4)(layer)\n",
    "\n",
    "layer = keras.layers.BatchNormalization()(layer)\n",
    "\n",
    "layer = keras.layers.Dense(units=128,\n",
    "                       activation='relu',\n",
    "                       kernel_initializer=initializer\n",
    "                       )(layer)\n",
    "\n",
    "layer = keras.layers.Dropout(0.4)(layer)\n",
    "\n",
    "layer = keras.layers.Dense(units=4,\n",
    "                       activation='softmax',\n",
    "                       kernel_initializer=initializer\n",
    "                       )(layer)\n"
   ]
  },
  {
   "cell_type": "code",
   "execution_count": 12,
   "id": "dd3c6707",
   "metadata": {},
   "outputs": [
    {
     "name": "stdout",
     "output_type": "stream",
     "text": [
      "Model: \"model\"\n",
      "_________________________________________________________________\n",
      "Layer (type)                 Output Shape              Param #   \n",
      "=================================================================\n",
      "input_2 (InputLayer)         [(None, 224, 224, 3)]     0         \n",
      "_________________________________________________________________\n",
      "densenet201 (Functional)     (None, 7, 7, 1920)        18321984  \n",
      "_________________________________________________________________\n",
      "flatten (Flatten)            (None, 94080)             0         \n",
      "_________________________________________________________________\n",
      "batch_normalization (BatchNo (None, 94080)             376320    \n",
      "_________________________________________________________________\n",
      "dense (Dense)                (None, 256)               24084736  \n",
      "_________________________________________________________________\n",
      "dropout (Dropout)            (None, 256)               0         \n",
      "_________________________________________________________________\n",
      "batch_normalization_1 (Batch (None, 256)               1024      \n",
      "_________________________________________________________________\n",
      "dense_1 (Dense)              (None, 128)               32896     \n",
      "_________________________________________________________________\n",
      "dropout_1 (Dropout)          (None, 128)               0         \n",
      "_________________________________________________________________\n",
      "dense_2 (Dense)              (None, 4)                 516       \n",
      "=================================================================\n",
      "Total params: 42,817,476\n",
      "Trainable params: 31,285,380\n",
      "Non-trainable params: 11,532,096\n",
      "_________________________________________________________________\n"
     ]
    }
   ],
   "source": [
    "final_model_densenet201 = keras.models.Model(inputs=input, outputs=layer)\n",
    "final_model_densenet201.summary()"
   ]
  },
  {
   "cell_type": "code",
   "execution_count": 13,
   "id": "5d620a2c",
   "metadata": {},
   "outputs": [],
   "source": [
    "# compile model\n",
    "final_model_densenet201.compile(loss='binary_crossentropy',\n",
    "                                optimizer=keras.optimizers.Adam(),\n",
    "                                metrics=['accuracy'])"
   ]
  },
  {
   "cell_type": "code",
   "execution_count": 14,
   "id": "7988a1af",
   "metadata": {},
   "outputs": [],
   "source": [
    "# apply early stopping\n",
    "early_stopping_fn = keras.callbacks.EarlyStopping(monitor=\"val_loss\",\n",
    "                                                  patience=10,\n",
    "                                                  verbose=1,\n",
    "                                                  mode=\"auto\",\n",
    "                                                  restore_best_weights=True,\n",
    "                                                 )"
   ]
  },
  {
   "cell_type": "code",
   "execution_count": 15,
   "id": "ffa45a11",
   "metadata": {
    "scrolled": true
   },
   "outputs": [
    {
     "name": "stdout",
     "output_type": "stream",
     "text": [
      "Epoch 1/100\n",
      "66/66 [==============================] - 570s 8s/step - loss: 0.2011 - accuracy: 0.8761 - val_loss: 0.1364 - val_accuracy: 0.9507\n",
      "Epoch 2/100\n",
      "66/66 [==============================] - 541s 8s/step - loss: 0.1078 - accuracy: 0.9313 - val_loss: 0.0990 - val_accuracy: 0.9492\n",
      "Epoch 3/100\n",
      "66/66 [==============================] - 557s 8s/step - loss: 0.0771 - accuracy: 0.9553 - val_loss: 0.0656 - val_accuracy: 0.9692\n",
      "Epoch 4/100\n",
      "66/66 [==============================] - 533s 8s/step - loss: 0.0714 - accuracy: 0.9558 - val_loss: 0.1187 - val_accuracy: 0.9399\n",
      "Epoch 5/100\n",
      "66/66 [==============================] - 523s 8s/step - loss: 0.0702 - accuracy: 0.9515 - val_loss: 1.3881 - val_accuracy: 0.6641\n",
      "Epoch 6/100\n",
      "66/66 [==============================] - 524s 8s/step - loss: 0.0646 - accuracy: 0.9549 - val_loss: 0.2044 - val_accuracy: 0.8968\n",
      "Epoch 7/100\n",
      "66/66 [==============================] - 524s 8s/step - loss: 0.0594 - accuracy: 0.9640 - val_loss: 0.0977 - val_accuracy: 0.9430\n",
      "Epoch 8/100\n",
      "66/66 [==============================] - 527s 8s/step - loss: 0.0539 - accuracy: 0.9649 - val_loss: 0.0867 - val_accuracy: 0.9599\n",
      "Epoch 9/100\n",
      "66/66 [==============================] - 525s 8s/step - loss: 0.0592 - accuracy: 0.9611 - val_loss: 0.1558 - val_accuracy: 0.9276\n",
      "Epoch 10/100\n",
      "66/66 [==============================] - 527s 8s/step - loss: 0.0668 - accuracy: 0.9568 - val_loss: 0.0634 - val_accuracy: 0.9553\n",
      "Epoch 11/100\n",
      "66/66 [==============================] - 531s 8s/step - loss: 0.0586 - accuracy: 0.9635 - val_loss: 0.0263 - val_accuracy: 0.9815\n",
      "Epoch 12/100\n",
      "66/66 [==============================] - 635s 10s/step - loss: 0.0388 - accuracy: 0.9731 - val_loss: 0.0263 - val_accuracy: 0.9846\n",
      "Epoch 13/100\n",
      "66/66 [==============================] - 934s 14s/step - loss: 0.0479 - accuracy: 0.9678 - val_loss: 0.0304 - val_accuracy: 0.9769\n",
      "Epoch 14/100\n",
      "66/66 [==============================] - 946s 14s/step - loss: 0.0525 - accuracy: 0.9649 - val_loss: 0.0258 - val_accuracy: 0.9861\n",
      "Epoch 15/100\n",
      "66/66 [==============================] - 945s 14s/step - loss: 0.0388 - accuracy: 0.9731 - val_loss: 0.0416 - val_accuracy: 0.9769\n",
      "Epoch 16/100\n",
      "66/66 [==============================] - 943s 14s/step - loss: 0.0381 - accuracy: 0.9760 - val_loss: 0.0298 - val_accuracy: 0.9846\n",
      "Epoch 17/100\n",
      "66/66 [==============================] - 960s 15s/step - loss: 0.0423 - accuracy: 0.9750 - val_loss: 0.0346 - val_accuracy: 0.9769\n",
      "Epoch 18/100\n",
      "66/66 [==============================] - 952s 14s/step - loss: 0.0388 - accuracy: 0.9755 - val_loss: 0.0370 - val_accuracy: 0.9815\n",
      "Epoch 19/100\n",
      "66/66 [==============================] - 943s 14s/step - loss: 0.0491 - accuracy: 0.9688 - val_loss: 0.4650 - val_accuracy: 0.7689\n",
      "Epoch 20/100\n",
      "66/66 [==============================] - 941s 14s/step - loss: 0.0510 - accuracy: 0.9697 - val_loss: 0.0971 - val_accuracy: 0.9399\n",
      "Epoch 21/100\n",
      "66/66 [==============================] - 940s 14s/step - loss: 0.0465 - accuracy: 0.9683 - val_loss: 0.0488 - val_accuracy: 0.9692\n",
      "Epoch 22/100\n",
      "66/66 [==============================] - 943s 14s/step - loss: 0.0326 - accuracy: 0.9769 - val_loss: 0.0239 - val_accuracy: 0.9815\n",
      "Epoch 23/100\n",
      "66/66 [==============================] - 969s 15s/step - loss: 0.0288 - accuracy: 0.9813 - val_loss: 0.0189 - val_accuracy: 0.9831\n",
      "Epoch 24/100\n",
      "66/66 [==============================] - 973s 15s/step - loss: 0.0308 - accuracy: 0.9798 - val_loss: 0.0435 - val_accuracy: 0.9692\n",
      "Epoch 25/100\n",
      "66/66 [==============================] - 937s 14s/step - loss: 0.0404 - accuracy: 0.9750 - val_loss: 0.0371 - val_accuracy: 0.9769\n",
      "Epoch 26/100\n",
      "66/66 [==============================] - 941s 14s/step - loss: 0.0348 - accuracy: 0.9765 - val_loss: 0.0265 - val_accuracy: 0.9877\n",
      "Epoch 27/100\n",
      "66/66 [==============================] - 943s 14s/step - loss: 0.0390 - accuracy: 0.9745 - val_loss: 0.0345 - val_accuracy: 0.9784\n",
      "Epoch 28/100\n",
      "66/66 [==============================] - 988s 15s/step - loss: 0.0233 - accuracy: 0.9851 - val_loss: 0.0489 - val_accuracy: 0.9692\n",
      "Epoch 29/100\n",
      "66/66 [==============================] - 998s 15s/step - loss: 0.0322 - accuracy: 0.9793 - val_loss: 0.0439 - val_accuracy: 0.9738\n",
      "Epoch 30/100\n",
      "66/66 [==============================] - 939s 14s/step - loss: 0.0401 - accuracy: 0.9721 - val_loss: 0.0150 - val_accuracy: 0.9923\n",
      "Epoch 31/100\n",
      "66/66 [==============================] - 950s 14s/step - loss: 0.0301 - accuracy: 0.9832 - val_loss: 0.0176 - val_accuracy: 0.9892\n",
      "Epoch 32/100\n",
      "66/66 [==============================] - 959s 15s/step - loss: 0.0416 - accuracy: 0.9736 - val_loss: 0.0301 - val_accuracy: 0.9815\n",
      "Epoch 33/100\n",
      "66/66 [==============================] - 964s 15s/step - loss: 0.0246 - accuracy: 0.9837 - val_loss: 0.0299 - val_accuracy: 0.9815\n",
      "Epoch 34/100\n",
      "66/66 [==============================] - 947s 14s/step - loss: 0.0429 - accuracy: 0.9774 - val_loss: 0.0363 - val_accuracy: 0.9753\n",
      "Epoch 35/100\n",
      "66/66 [==============================] - 957s 15s/step - loss: 0.0214 - accuracy: 0.9880 - val_loss: 0.0421 - val_accuracy: 0.9800\n",
      "Epoch 36/100\n",
      "66/66 [==============================] - 961s 15s/step - loss: 0.0201 - accuracy: 0.9875 - val_loss: 0.0212 - val_accuracy: 0.9908\n",
      "Epoch 37/100\n",
      "66/66 [==============================] - 958s 15s/step - loss: 0.0303 - accuracy: 0.9765 - val_loss: 0.0233 - val_accuracy: 0.9861\n",
      "Epoch 38/100\n",
      "66/66 [==============================] - 948s 14s/step - loss: 0.0234 - accuracy: 0.9846 - val_loss: 0.0426 - val_accuracy: 0.9784\n",
      "Epoch 39/100\n",
      "66/66 [==============================] - 945s 14s/step - loss: 0.0201 - accuracy: 0.9880 - val_loss: 0.0300 - val_accuracy: 0.9846\n",
      "Epoch 40/100\n",
      "66/66 [==============================] - 945s 14s/step - loss: 0.0296 - accuracy: 0.9827 - val_loss: 0.0330 - val_accuracy: 0.9815\n",
      "Restoring model weights from the end of the best epoch.\n",
      "Epoch 00040: early stopping\n"
     ]
    }
   ],
   "source": [
    "model_history = final_model_densenet201.fit(seg_train_data,\n",
    "                                            epochs=epoch_nbr,\n",
    "                                            steps_per_epoch=len(seg_train_data),\n",
    "                                            validation_data=seg_val_data,\n",
    "                                            validation_steps=len(seg_val_data),\n",
    "                                            callbacks=[early_stopping_fn]\n",
    "                                           )"
   ]
  },
  {
   "cell_type": "code",
   "execution_count": 16,
   "id": "681ea619",
   "metadata": {},
   "outputs": [
    {
     "data": {
      "image/png": "[encoded data removed]",
      "text/plain": [
       "<Figure size 432x288 with 1 Axes>"
      ]
     },
     "metadata": {
      "needs_background": "light"
     },
     "output_type": "display_data"
    },
    {
     "data": {
      "image/png": "[encoded data removed]",
      "text/plain": [
       "<Figure size 432x288 with 1 Axes>"
      ]
     },
     "metadata": {
      "needs_background": "light"
     },
     "output_type": "display_data"
    }
   ],
   "source": [
    "plot_loss_curves(model_history , 'accuracy' , 'val_accuracy')"
   ]
  },
  {
   "cell_type": "code",
   "execution_count": 17,
   "id": "42ba8b11",
   "metadata": {},
   "outputs": [],
   "source": [
    "# Save a model\n",
    "final_model_densenet201.save(\"saved_model/final_model_with_early_stopping.h5\")"
   ]
  },
  {
   "cell_type": "code",
   "execution_count": null,
   "id": "b2f9b171",
   "metadata": {},
   "outputs": [],
   "source": []
  }
 ],
 "metadata": {
  "kernelspec": {
   "display_name": "Python 3",
   "language": "python",
   "name": "python3"
  },
  "language_info": {
   "codemirror_mode": {
    "name": "ipython",
    "version": 3
   },
   "file_extension": ".py",
   "mimetype": "text/x-python",
   "name": "python",
   "nbconvert_exporter": "python",
   "pygments_lexer": "ipython3",
   "version": "3.9.12"
  }
 },
 "nbformat": 4,
 "nbformat_minor": 5
}
