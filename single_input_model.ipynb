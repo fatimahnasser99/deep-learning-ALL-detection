{
 "cells": [
  {
   "cell_type": "markdown",
   "id": "4dea762d",
   "metadata": {},
   "source": [
    "### Single input Model - Model 2\n",
    "In this file we build and train model 2 using the structure mentioned in the report. "
   ]
  },
  {
   "cell_type": "code",
   "execution_count": 1,
   "id": "3e244a46",
   "metadata": {},
   "outputs": [],
   "source": [
    "import os\n",
    "from dotenv import dotenv_values\n",
    "import numpy as np\n",
    "\n",
    "\n",
    "import tensorflow as tf\n",
    "import tensorflow.keras as keras\n",
    "from keras.preprocessing.image import ImageDataGenerator\n",
    "\n",
    "from scikitplot.metrics import plot_confusion_matrix\n",
    "from sklearn.metrics import classification_report\n",
    "\n",
    "import matplotlib.pyplot as plt"
   ]
  },
  {
   "cell_type": "code",
   "execution_count": 2,
   "id": "ab214135",
   "metadata": {},
   "outputs": [],
   "source": [
    "#get files from .env file\n",
    "config = dotenv_values(\".env\")"
   ]
  },
  {
   "cell_type": "code",
   "execution_count": 3,
   "id": "ce5fa141",
   "metadata": {},
   "outputs": [],
   "source": [
    "# define repetitive values\n",
    "raw_dir = config['RAW_PATH']\n",
    "\n",
    "img_dim = int(config['DIM'])\n",
    "batch_size = int(config['BATCH_SIZE'])\n",
    "epoch_nbr = int(config['EPOCH'])\n",
    "\n",
    "input_shape = (img_dim, img_dim, 3)"
   ]
  },
  {
   "cell_type": "code",
   "execution_count": 4,
   "id": "a65b23c2",
   "metadata": {},
   "outputs": [],
   "source": [
    "#in this code we are going to use the segmented dataset as the model's inut\n",
    "\n",
    "#Paths to segmented data\n",
    "seg_train_path = raw_dir + '/splitDataset/Segmented/train'\n",
    "seg_val_path = raw_dir + '/splitDataset/Segmented/val'\n",
    "seg_test_path = raw_dir + '/splitDataset/Segmented/test'"
   ]
  },
  {
   "cell_type": "markdown",
   "id": "895f25e8",
   "metadata": {},
   "source": [
    "#### helper functions"
   ]
  },
  {
   "cell_type": "code",
   "execution_count": 5,
   "id": "06f9a1ef",
   "metadata": {},
   "outputs": [],
   "source": [
    "# image data generator for train and val datasets\n",
    "# data augmentation is applied only on the traing dataset\n",
    "\n",
    "def image_data_generator():\n",
    "    train_datagen = ImageDataGenerator(\n",
    "        rescale = 1./255,\n",
    "        rotation_range = 20,\n",
    "        horizontal_flip = True,\n",
    "        shear_range=0.2, # shear the image\n",
    "        zoom_range=0.2, # zoom into the image\n",
    "        width_shift_range=0.2, # shift the image width ways\n",
    "        height_shift_range=0.2, # shift the image height ways\n",
    "    )\n",
    "    \n",
    "    validation_datagen = ImageDataGenerator(\n",
    "        rescale = 1./255, \n",
    "    )\n",
    "    \n",
    "    test_datagen = ImageDataGenerator(\n",
    "        rescale = 1./255, \n",
    "    )\n",
    "    \n",
    "    return [train_datagen, validation_datagen, test_datagen]"
   ]
  },
  {
   "cell_type": "code",
   "execution_count": 6,
   "id": "eda46366",
   "metadata": {},
   "outputs": [],
   "source": [
    "# Plot the validation and training data separately\n",
    "def plot_loss_curves(history , metric , val_metric):\n",
    "    \"\"\"\n",
    "    Returns separate loss curves for training and validation metrics.\n",
    "    \"\"\" \n",
    "    loss = history.history['loss']\n",
    "    val_loss = history.history['val_loss']\n",
    "\n",
    "    accuracy = history.history[metric]\n",
    "    val_accuracy = history.history[val_metric]\n",
    "\n",
    "    epochs = range(len(history.history['loss']))\n",
    "\n",
    "    # Plot loss\n",
    "    plt.plot(epochs, loss, label='training_loss')\n",
    "    plt.plot(epochs, val_loss, label='val_loss')\n",
    "    plt.title('Loss')\n",
    "    plt.xlabel('Epochs')\n",
    "    plt.legend()\n",
    "\n",
    "    # Plot accuracy\n",
    "    plt.figure()\n",
    "    plt.plot(epochs, accuracy, label='training_accuracy')\n",
    "    plt.plot(epochs, val_accuracy, label='val_accuracy')\n",
    "    plt.title('Accuracy')\n",
    "    plt.xlabel('Epochs')\n",
    "    plt.legend();"
   ]
  },
  {
   "cell_type": "code",
   "execution_count": 7,
   "id": "1fa71287",
   "metadata": {},
   "outputs": [],
   "source": [
    "def evaluation_metrics(actual, predicted):\n",
    "    class_names = ['Benign', 'Early', 'Pre', 'Pro']\n",
    "    print(f\"0 = {class_names[0]}, 1 = {class_names[1]}, 2 = {class_names[2]}, 3 = {class_names[3]}\")\n",
    "    print(classification_report(actual, predicted))\n",
    "    plot_confusion_matrix(actual,\n",
    "                          predicted,\n",
    "                          title = \"model 2 confusion matrix\")"
   ]
  },
  {
   "cell_type": "markdown",
   "id": "918de16b",
   "metadata": {},
   "source": [
    "#### build the model"
   ]
  },
  {
   "cell_type": "code",
   "execution_count": 8,
   "id": "66b73ac4",
   "metadata": {},
   "outputs": [],
   "source": [
    "#create data generators\n",
    "train_datagen, val_datagen, test_datagen = image_data_generator()"
   ]
  },
  {
   "cell_type": "code",
   "execution_count": 9,
   "id": "879c0f30",
   "metadata": {},
   "outputs": [
    {
     "name": "stdout",
     "output_type": "stream",
     "text": [
      "\n",
      "Segmented data set\n",
      "Augmented training images:\n",
      "Found 2082 images belonging to 4 classes.\n",
      "validation images:\n",
      "Found 649 images belonging to 4 classes.\n",
      "test images:\n",
      "Found 525 images belonging to 4 classes.\n"
     ]
    }
   ],
   "source": [
    "# Create segmented data batches\n",
    "print(\"\\nSegmented data set\")\n",
    "print(\"Augmented training images:\")\n",
    "seg_train_data = train_datagen.flow_from_directory(seg_train_path,\n",
    "                                               target_size=(img_dim, img_dim),\n",
    "                                               batch_size=batch_size,\n",
    "                                               class_mode='categorical',\n",
    "                                               shuffle=True) \n",
    "\n",
    "print(\"validation images:\")\n",
    "seg_val_data = val_datagen.flow_from_directory(seg_val_path,\n",
    "                                             target_size=(img_dim, img_dim),\n",
    "                                             batch_size=batch_size,\n",
    "                                             class_mode='categorical')\n",
    "print(\"test images:\")\n",
    "seg_test_data = test_datagen.flow_from_directory(seg_test_path,\n",
    "                                             target_size=(img_dim, img_dim),\n",
    "                                             batch_size=batch_size,\n",
    "                                             class_mode='categorical')"
   ]
  },
  {
   "cell_type": "code",
   "execution_count": 10,
   "id": "31eeb872",
   "metadata": {},
   "outputs": [],
   "source": [
    "# feature block\n",
    "\n",
    "densenet_model = keras.applications.DenseNet201(include_top=False,\n",
    "                                                weights=\"imagenet\",\n",
    "                                                input_tensor=None,\n",
    "                                                input_shape=input_shape,\n",
    "                                                pooling=None)"
   ]
  },
  {
   "cell_type": "code",
   "execution_count": 11,
   "id": "aa0ba228",
   "metadata": {},
   "outputs": [
    {
     "name": "stdout",
     "output_type": "stream",
     "text": [
      "nbr of trainable layers =  224\n"
     ]
    }
   ],
   "source": [
    "# with training case\n",
    "# By setting the trainable property of this model we created to True,\n",
    "# we allow the weights in trainable layers to be updated. \n",
    "\n",
    "densenet_model.trainable = True\n",
    "count = 0\n",
    "for layer in densenet_model.layers:\n",
    "    if 'conv5' in layer.name:\n",
    "        count = count + 1\n",
    "        layer.trainable = True\n",
    "    else:\n",
    "        layer.trainable = False\n",
    "\n",
    "print('nbr of trainable layers = ', count)"
   ]
  },
  {
   "cell_type": "code",
   "execution_count": 12,
   "id": "cff79a0b",
   "metadata": {},
   "outputs": [],
   "source": [
    "input = keras.Input(shape=input_shape)\n",
    "\n",
    "initializer = keras.initializers.he_normal(seed=32)\n",
    "\n",
    "layer_1 = densenet_model(inputs=input)\n",
    "layer_1 = keras.layers.Flatten()(layer_1)\n",
    "#batch normailzation\n",
    "layer_1 = keras.layers.BatchNormalization()(layer_1)\n",
    "    \n",
    "#Fully-connected block 1\n",
    "layer_1 = keras.layers.Dense(units=16,\n",
    "                             activation='relu',\n",
    "                             kernel_initializer=initializer,\n",
    "                             kernel_regularizer=keras.regularizers.l2(0.001)\n",
    "                            )(layer_1)\n",
    "layer_1 = keras.layers.BatchNormalization()(layer_1)\n",
    "layer_1 = keras.layers.LeakyReLU()(layer_1)\n",
    "layer_1 = keras.layers.Dropout(0.2)(layer_1)\n",
    "\n",
    "#Fully-connected block 2\n",
    "layer_1 = keras.layers.Dense(units=16,\n",
    "                             activation='relu',\n",
    "                             kernel_initializer=initializer,\n",
    "                             kernel_regularizer=keras.regularizers.l2(0.001)\n",
    "                            )(layer_1)\n",
    "\n",
    "layer_1 = keras.layers.BatchNormalization()(layer_1)\n",
    "layer_1 = keras.layers.ReLU()(layer_1)\n",
    "\n",
    "#Classifier block\n",
    "layer_1 = keras.layers.Dense(units=4,\n",
    "                             kernel_initializer=initializer,\n",
    "                             activation='softmax'\n",
    "                            )(layer_1)\n"
   ]
  },
  {
   "cell_type": "code",
   "execution_count": 13,
   "id": "dd3c6707",
   "metadata": {},
   "outputs": [
    {
     "name": "stdout",
     "output_type": "stream",
     "text": [
      "Model: \"model\"\n",
      "_________________________________________________________________\n",
      "Layer (type)                 Output Shape              Param #   \n",
      "=================================================================\n",
      "input_2 (InputLayer)         [(None, 224, 224, 3)]     0         \n",
      "_________________________________________________________________\n",
      "densenet201 (Functional)     (None, 7, 7, 1920)        18321984  \n",
      "_________________________________________________________________\n",
      "flatten (Flatten)            (None, 94080)             0         \n",
      "_________________________________________________________________\n",
      "batch_normalization (BatchNo (None, 94080)             376320    \n",
      "_________________________________________________________________\n",
      "dense (Dense)                (None, 16)                1505296   \n",
      "_________________________________________________________________\n",
      "batch_normalization_1 (Batch (None, 16)                64        \n",
      "_________________________________________________________________\n",
      "leaky_re_lu (LeakyReLU)      (None, 16)                0         \n",
      "_________________________________________________________________\n",
      "dropout (Dropout)            (None, 16)                0         \n",
      "_________________________________________________________________\n",
      "dense_1 (Dense)              (None, 16)                272       \n",
      "_________________________________________________________________\n",
      "batch_normalization_2 (Batch (None, 16)                64        \n",
      "_________________________________________________________________\n",
      "re_lu (ReLU)                 (None, 16)                0         \n",
      "_________________________________________________________________\n",
      "dense_2 (Dense)              (None, 4)                 68        \n",
      "=================================================================\n",
      "Total params: 20,204,068\n",
      "Trainable params: 8,672,420\n",
      "Non-trainable params: 11,531,648\n",
      "_________________________________________________________________\n"
     ]
    }
   ],
   "source": [
    "single_input_model_densenet201 = keras.models.Model(inputs=input, outputs=layer_1)\n",
    "single_input_model_densenet201.summary()"
   ]
  },
  {
   "cell_type": "code",
   "execution_count": 14,
   "id": "5d620a2c",
   "metadata": {},
   "outputs": [],
   "source": [
    "# compile model\n",
    "single_input_model_densenet201.compile(loss='binary_crossentropy',\n",
    "            optimizer=keras.optimizers.Adam(),\n",
    "            metrics=['accuracy'])"
   ]
  },
  {
   "cell_type": "code",
   "execution_count": 15,
   "id": "ffa45a11",
   "metadata": {},
   "outputs": [
    {
     "name": "stdout",
     "output_type": "stream",
     "text": [
      "Epoch 1/100\n",
      "66/66 [==============================] - 1000s 14s/step - loss: 0.5421 - accuracy: 0.7286 - val_loss: 0.3847 - val_accuracy: 0.6471\n",
      "Epoch 2/100\n",
      "66/66 [==============================] - 935s 14s/step - loss: 0.3711 - accuracy: 0.9179 - val_loss: 0.3172 - val_accuracy: 0.9337\n",
      "Epoch 3/100\n",
      "66/66 [==============================] - 933s 14s/step - loss: 0.2883 - accuracy: 0.9251 - val_loss: 0.2047 - val_accuracy: 0.9276\n",
      "Epoch 4/100\n",
      "66/66 [==============================] - 933s 14s/step - loss: 0.2211 - accuracy: 0.9486 - val_loss: 0.1515 - val_accuracy: 0.9676\n",
      "Epoch 5/100\n",
      "66/66 [==============================] - 935s 14s/step - loss: 0.1875 - accuracy: 0.9457 - val_loss: 0.1124 - val_accuracy: 0.9630\n",
      "Epoch 6/100\n",
      "66/66 [==============================] - 951s 14s/step - loss: 0.1570 - accuracy: 0.9568 - val_loss: 0.1295 - val_accuracy: 0.9522\n",
      "Epoch 7/100\n",
      "66/66 [==============================] - 933s 14s/step - loss: 0.1352 - accuracy: 0.9606 - val_loss: 0.1459 - val_accuracy: 0.9337\n",
      "Epoch 8/100\n",
      "66/66 [==============================] - 932s 14s/step - loss: 0.1301 - accuracy: 0.9606 - val_loss: 0.0913 - val_accuracy: 0.9769\n",
      "Epoch 9/100\n",
      "66/66 [==============================] - 925s 14s/step - loss: 0.1340 - accuracy: 0.9524 - val_loss: 0.0788 - val_accuracy: 0.9815\n",
      "Epoch 10/100\n",
      "66/66 [==============================] - 931s 14s/step - loss: 0.1185 - accuracy: 0.9597 - val_loss: 0.0796 - val_accuracy: 0.9723\n",
      "Epoch 11/100\n",
      "66/66 [==============================] - 899s 14s/step - loss: 0.1045 - accuracy: 0.9683 - val_loss: 0.0901 - val_accuracy: 0.9692\n",
      "Epoch 12/100\n",
      "66/66 [==============================] - 976s 15s/step - loss: 0.1042 - accuracy: 0.9640 - val_loss: 0.0621 - val_accuracy: 0.9831\n",
      "Epoch 13/100\n",
      "66/66 [==============================] - 931s 14s/step - loss: 0.0968 - accuracy: 0.9707 - val_loss: 0.0694 - val_accuracy: 0.9815\n",
      "Epoch 14/100\n",
      "66/66 [==============================] - 927s 14s/step - loss: 0.0901 - accuracy: 0.9693 - val_loss: 0.0702 - val_accuracy: 0.9738\n",
      "Epoch 15/100\n",
      "66/66 [==============================] - 931s 14s/step - loss: 0.0959 - accuracy: 0.9688 - val_loss: 0.0907 - val_accuracy: 0.9646\n",
      "Epoch 16/100\n",
      "66/66 [==============================] - 929s 14s/step - loss: 0.0948 - accuracy: 0.9635 - val_loss: 1.9306 - val_accuracy: 0.4684\n",
      "Epoch 17/100\n",
      "66/66 [==============================] - 1032s 16s/step - loss: 0.1636 - accuracy: 0.9395 - val_loss: 0.3723 - val_accuracy: 0.8382\n",
      "Epoch 18/100\n",
      "66/66 [==============================] - 930s 14s/step - loss: 0.1375 - accuracy: 0.9563 - val_loss: 0.1044 - val_accuracy: 0.9723\n",
      "Epoch 19/100\n",
      "66/66 [==============================] - 929s 14s/step - loss: 0.1213 - accuracy: 0.9611 - val_loss: 0.1491 - val_accuracy: 0.9384\n",
      "Epoch 20/100\n",
      "66/66 [==============================] - 944s 14s/step - loss: 0.1169 - accuracy: 0.9664 - val_loss: 0.1140 - val_accuracy: 0.9569\n",
      "Epoch 21/100\n",
      "66/66 [==============================] - 950s 14s/step - loss: 0.1164 - accuracy: 0.9616 - val_loss: 0.0907 - val_accuracy: 0.9738\n",
      "Epoch 22/100\n",
      "66/66 [==============================] - 950s 14s/step - loss: 0.1035 - accuracy: 0.9683 - val_loss: 0.0843 - val_accuracy: 0.9738\n",
      "Epoch 23/100\n",
      "66/66 [==============================] - 947s 14s/step - loss: 0.1009 - accuracy: 0.9683 - val_loss: 0.1000 - val_accuracy: 0.9599\n",
      "Epoch 24/100\n",
      "66/66 [==============================] - 947s 14s/step - loss: 0.0994 - accuracy: 0.9712 - val_loss: 0.0902 - val_accuracy: 0.9738\n",
      "Epoch 25/100\n",
      "66/66 [==============================] - 948s 14s/step - loss: 0.0941 - accuracy: 0.9731 - val_loss: 0.1672 - val_accuracy: 0.9045\n",
      "Epoch 26/100\n",
      "66/66 [==============================] - 943s 14s/step - loss: 0.1022 - accuracy: 0.9664 - val_loss: 0.0693 - val_accuracy: 0.9831\n",
      "Epoch 27/100\n",
      "66/66 [==============================] - 935s 14s/step - loss: 0.0906 - accuracy: 0.9678 - val_loss: 0.3568 - val_accuracy: 0.8166\n",
      "Epoch 28/100\n",
      "66/66 [==============================] - 930s 14s/step - loss: 0.1349 - accuracy: 0.9635 - val_loss: 0.1578 - val_accuracy: 0.9492\n",
      "Epoch 29/100\n",
      "66/66 [==============================] - 784s 12s/step - loss: 0.1248 - accuracy: 0.9702 - val_loss: 0.1267 - val_accuracy: 0.9615\n",
      "Epoch 30/100\n",
      "66/66 [==============================] - 515s 8s/step - loss: 0.1086 - accuracy: 0.9750 - val_loss: 0.1097 - val_accuracy: 0.9738\n",
      "Epoch 31/100\n",
      "66/66 [==============================] - 517s 8s/step - loss: 0.1340 - accuracy: 0.9645 - val_loss: 0.1902 - val_accuracy: 0.9337\n",
      "Epoch 32/100\n",
      "66/66 [==============================] - 515s 8s/step - loss: 0.1301 - accuracy: 0.9721 - val_loss: 0.1179 - val_accuracy: 0.9723\n",
      "Epoch 33/100\n",
      "66/66 [==============================] - 515s 8s/step - loss: 0.1139 - accuracy: 0.9755 - val_loss: 0.1088 - val_accuracy: 0.9723\n",
      "Epoch 34/100\n",
      "66/66 [==============================] - 514s 8s/step - loss: 0.1185 - accuracy: 0.9664 - val_loss: 0.0901 - val_accuracy: 0.9877\n",
      "Epoch 35/100\n",
      "66/66 [==============================] - 515s 8s/step - loss: 0.1027 - accuracy: 0.9774 - val_loss: 0.0853 - val_accuracy: 0.9784\n",
      "Epoch 36/100\n",
      "66/66 [==============================] - 516s 8s/step - loss: 0.0961 - accuracy: 0.9774 - val_loss: 0.0906 - val_accuracy: 0.9769\n",
      "Epoch 37/100\n",
      "66/66 [==============================] - 517s 8s/step - loss: 0.0826 - accuracy: 0.9827 - val_loss: 0.0789 - val_accuracy: 0.9769\n",
      "Epoch 38/100\n",
      "66/66 [==============================] - 517s 8s/step - loss: 0.0982 - accuracy: 0.9678 - val_loss: 0.0927 - val_accuracy: 0.9738\n",
      "Epoch 39/100\n",
      "66/66 [==============================] - 517s 8s/step - loss: 0.0768 - accuracy: 0.9846 - val_loss: 0.0809 - val_accuracy: 0.9753\n",
      "Epoch 40/100\n",
      "66/66 [==============================] - 515s 8s/step - loss: 0.0784 - accuracy: 0.9784 - val_loss: 0.0761 - val_accuracy: 0.9815\n",
      "Epoch 41/100\n",
      "66/66 [==============================] - 516s 8s/step - loss: 0.0757 - accuracy: 0.9789 - val_loss: 0.0718 - val_accuracy: 0.9815\n",
      "Epoch 42/100\n",
      "66/66 [==============================] - 514s 8s/step - loss: 0.0769 - accuracy: 0.9779 - val_loss: 0.0747 - val_accuracy: 0.9769\n",
      "Epoch 43/100\n",
      "66/66 [==============================] - 538s 8s/step - loss: 0.0864 - accuracy: 0.9717 - val_loss: 0.0792 - val_accuracy: 0.9753\n",
      "Epoch 44/100\n",
      "66/66 [==============================] - 517s 8s/step - loss: 0.0841 - accuracy: 0.9750 - val_loss: 0.0765 - val_accuracy: 0.9753\n",
      "Epoch 45/100\n",
      "66/66 [==============================] - 517s 8s/step - loss: 0.0716 - accuracy: 0.9837 - val_loss: 0.0641 - val_accuracy: 0.9861\n",
      "Epoch 46/100\n",
      "66/66 [==============================] - 526s 8s/step - loss: 0.0650 - accuracy: 0.9841 - val_loss: 0.0714 - val_accuracy: 0.9769\n",
      "Epoch 47/100\n",
      "66/66 [==============================] - 697s 11s/step - loss: 0.0759 - accuracy: 0.9769 - val_loss: 0.0898 - val_accuracy: 0.9738\n",
      "Epoch 48/100\n",
      "66/66 [==============================] - 520s 8s/step - loss: 0.0714 - accuracy: 0.9822 - val_loss: 0.0728 - val_accuracy: 0.9831\n",
      "Epoch 49/100\n",
      "66/66 [==============================] - 518s 8s/step - loss: 0.0731 - accuracy: 0.9774 - val_loss: 0.0658 - val_accuracy: 0.9815\n",
      "Epoch 50/100\n",
      "66/66 [==============================] - 517s 8s/step - loss: 0.0657 - accuracy: 0.9798 - val_loss: 0.0714 - val_accuracy: 0.9800\n",
      "Epoch 51/100\n",
      "66/66 [==============================] - 520s 8s/step - loss: 0.0611 - accuracy: 0.9832 - val_loss: 0.0629 - val_accuracy: 0.9800\n",
      "Epoch 52/100\n",
      "66/66 [==============================] - 518s 8s/step - loss: 0.0594 - accuracy: 0.9846 - val_loss: 0.0629 - val_accuracy: 0.9831\n",
      "Epoch 53/100\n",
      "66/66 [==============================] - 731s 11s/step - loss: 0.0711 - accuracy: 0.9774 - val_loss: 0.1021 - val_accuracy: 0.9553\n",
      "Epoch 54/100\n",
      "66/66 [==============================] - 567s 9s/step - loss: 0.0750 - accuracy: 0.9769 - val_loss: 0.0686 - val_accuracy: 0.9831\n",
      "Epoch 55/100\n",
      "66/66 [==============================] - 525s 8s/step - loss: 0.0630 - accuracy: 0.9817 - val_loss: 0.0571 - val_accuracy: 0.9892\n",
      "Epoch 56/100\n",
      "66/66 [==============================] - 557s 8s/step - loss: 0.0679 - accuracy: 0.9784 - val_loss: 0.0771 - val_accuracy: 0.9707\n",
      "Epoch 57/100\n",
      "66/66 [==============================] - 578s 9s/step - loss: 0.0757 - accuracy: 0.9717 - val_loss: 0.0523 - val_accuracy: 0.9908\n",
      "Epoch 58/100\n"
     ]
    },
    {
     "name": "stdout",
     "output_type": "stream",
     "text": [
      "66/66 [==============================] - 575s 9s/step - loss: 0.0571 - accuracy: 0.9846 - val_loss: 0.0858 - val_accuracy: 0.9661\n",
      "Epoch 59/100\n",
      "66/66 [==============================] - 546s 8s/step - loss: 0.0550 - accuracy: 0.9851 - val_loss: 0.0654 - val_accuracy: 0.9738\n",
      "Epoch 60/100\n",
      "66/66 [==============================] - 576s 9s/step - loss: 0.0602 - accuracy: 0.9813 - val_loss: 0.0721 - val_accuracy: 0.9661\n",
      "Epoch 61/100\n",
      "66/66 [==============================] - 522s 8s/step - loss: 0.0611 - accuracy: 0.9827 - val_loss: 0.0654 - val_accuracy: 0.9800\n",
      "Epoch 62/100\n",
      "66/66 [==============================] - 564s 9s/step - loss: 0.0571 - accuracy: 0.9837 - val_loss: 0.0662 - val_accuracy: 0.9753\n",
      "Epoch 63/100\n",
      "66/66 [==============================] - 609s 9s/step - loss: 0.0519 - accuracy: 0.9866 - val_loss: 0.0716 - val_accuracy: 0.9723\n",
      "Epoch 64/100\n",
      "66/66 [==============================] - 539s 8s/step - loss: 0.0638 - accuracy: 0.9784 - val_loss: 0.0723 - val_accuracy: 0.9738\n",
      "Epoch 65/100\n",
      "66/66 [==============================] - 521s 8s/step - loss: 0.0578 - accuracy: 0.9870 - val_loss: 0.0762 - val_accuracy: 0.9753\n",
      "Epoch 66/100\n",
      "66/66 [==============================] - 523s 8s/step - loss: 0.0635 - accuracy: 0.9846 - val_loss: 0.0630 - val_accuracy: 0.9769\n",
      "Epoch 67/100\n",
      "66/66 [==============================] - 530s 8s/step - loss: 0.0626 - accuracy: 0.9798 - val_loss: 0.0553 - val_accuracy: 0.9877\n",
      "Epoch 68/100\n",
      "66/66 [==============================] - 526s 8s/step - loss: 0.0559 - accuracy: 0.9851 - val_loss: 0.0670 - val_accuracy: 0.9707\n",
      "Epoch 69/100\n",
      "66/66 [==============================] - 526s 8s/step - loss: 0.0604 - accuracy: 0.9846 - val_loss: 0.0678 - val_accuracy: 0.9784\n",
      "Epoch 70/100\n",
      "66/66 [==============================] - 517s 8s/step - loss: 0.0619 - accuracy: 0.9841 - val_loss: 0.0673 - val_accuracy: 0.9815\n",
      "Epoch 71/100\n",
      "66/66 [==============================] - 514s 8s/step - loss: 0.0579 - accuracy: 0.9866 - val_loss: 0.0709 - val_accuracy: 0.9769\n",
      "Epoch 72/100\n",
      "66/66 [==============================] - 521s 8s/step - loss: 0.0577 - accuracy: 0.9851 - val_loss: 0.0698 - val_accuracy: 0.9753\n",
      "Epoch 73/100\n",
      "66/66 [==============================] - 547s 8s/step - loss: 0.0564 - accuracy: 0.9861 - val_loss: 0.0758 - val_accuracy: 0.9738\n",
      "Epoch 74/100\n",
      "66/66 [==============================] - 521s 8s/step - loss: 0.0522 - accuracy: 0.9875 - val_loss: 0.0634 - val_accuracy: 0.9815\n",
      "Epoch 75/100\n",
      "66/66 [==============================] - 519s 8s/step - loss: 0.0612 - accuracy: 0.9827 - val_loss: 0.0806 - val_accuracy: 0.9800\n",
      "Epoch 76/100\n",
      "66/66 [==============================] - 518s 8s/step - loss: 0.0682 - accuracy: 0.9808 - val_loss: 0.0745 - val_accuracy: 0.9692\n",
      "Epoch 77/100\n",
      "66/66 [==============================] - 531s 8s/step - loss: 0.0680 - accuracy: 0.9827 - val_loss: 0.0689 - val_accuracy: 0.9707\n",
      "Epoch 78/100\n",
      "66/66 [==============================] - 518s 8s/step - loss: 0.0577 - accuracy: 0.9846 - val_loss: 0.0604 - val_accuracy: 0.9815\n",
      "Epoch 79/100\n",
      "66/66 [==============================] - 519s 8s/step - loss: 0.0712 - accuracy: 0.9789 - val_loss: 0.0625 - val_accuracy: 0.9846\n",
      "Epoch 80/100\n",
      "66/66 [==============================] - 520s 8s/step - loss: 0.0544 - accuracy: 0.9870 - val_loss: 0.0674 - val_accuracy: 0.9800\n",
      "Epoch 81/100\n",
      "66/66 [==============================] - 519s 8s/step - loss: 0.0473 - accuracy: 0.9894 - val_loss: 0.0610 - val_accuracy: 0.9784\n",
      "Epoch 82/100\n",
      "66/66 [==============================] - 522s 8s/step - loss: 0.0536 - accuracy: 0.9890 - val_loss: 0.0971 - val_accuracy: 0.9692\n",
      "Epoch 83/100\n",
      "66/66 [==============================] - 521s 8s/step - loss: 0.0556 - accuracy: 0.9827 - val_loss: 0.0685 - val_accuracy: 0.9784\n",
      "Epoch 84/100\n",
      "66/66 [==============================] - 536s 8s/step - loss: 0.0493 - accuracy: 0.9861 - val_loss: 0.0739 - val_accuracy: 0.9800\n",
      "Epoch 85/100\n",
      "66/66 [==============================] - 533s 8s/step - loss: 0.0550 - accuracy: 0.9861 - val_loss: 0.0953 - val_accuracy: 0.9584\n",
      "Epoch 86/100\n",
      "66/66 [==============================] - 529s 8s/step - loss: 0.0752 - accuracy: 0.9793 - val_loss: 0.0934 - val_accuracy: 0.9753\n",
      "Epoch 87/100\n",
      "66/66 [==============================] - 524s 8s/step - loss: 0.0597 - accuracy: 0.9846 - val_loss: 0.0597 - val_accuracy: 0.9861\n",
      "Epoch 88/100\n",
      "66/66 [==============================] - 519s 8s/step - loss: 0.0553 - accuracy: 0.9846 - val_loss: 0.0813 - val_accuracy: 0.9661\n",
      "Epoch 89/100\n",
      "66/66 [==============================] - 518s 8s/step - loss: 0.0559 - accuracy: 0.9870 - val_loss: 0.0577 - val_accuracy: 0.9784\n",
      "Epoch 90/100\n",
      "66/66 [==============================] - 551s 8s/step - loss: 0.0396 - accuracy: 0.9904 - val_loss: 0.0528 - val_accuracy: 0.9861\n",
      "Epoch 91/100\n",
      "66/66 [==============================] - 587s 9s/step - loss: 0.0506 - accuracy: 0.9866 - val_loss: 0.0661 - val_accuracy: 0.9784\n",
      "Epoch 92/100\n",
      "66/66 [==============================] - 588s 9s/step - loss: 0.0591 - accuracy: 0.9841 - val_loss: 0.0722 - val_accuracy: 0.9800\n",
      "Epoch 93/100\n",
      "66/66 [==============================] - 538s 8s/step - loss: 0.0751 - accuracy: 0.9793 - val_loss: 0.0681 - val_accuracy: 0.9831\n",
      "Epoch 94/100\n",
      "66/66 [==============================] - 523s 8s/step - loss: 0.0570 - accuracy: 0.9866 - val_loss: 0.0426 - val_accuracy: 0.9908\n",
      "Epoch 95/100\n",
      "66/66 [==============================] - 521s 8s/step - loss: 0.0619 - accuracy: 0.9827 - val_loss: 0.0731 - val_accuracy: 0.9784\n",
      "Epoch 96/100\n",
      "66/66 [==============================] - 520s 8s/step - loss: 0.0434 - accuracy: 0.9918 - val_loss: 0.0892 - val_accuracy: 0.9599\n",
      "Epoch 97/100\n",
      "66/66 [==============================] - 519s 8s/step - loss: 0.0501 - accuracy: 0.9851 - val_loss: 0.0826 - val_accuracy: 0.9707\n",
      "Epoch 98/100\n",
      "66/66 [==============================] - 518s 8s/step - loss: 0.0668 - accuracy: 0.9827 - val_loss: 0.0659 - val_accuracy: 0.9800\n",
      "Epoch 99/100\n",
      "66/66 [==============================] - 517s 8s/step - loss: 0.0369 - accuracy: 0.9942 - val_loss: 0.0501 - val_accuracy: 0.9831\n",
      "Epoch 100/100\n",
      "66/66 [==============================] - 519s 8s/step - loss: 0.0481 - accuracy: 0.9866 - val_loss: 0.0748 - val_accuracy: 0.9723\n"
     ]
    }
   ],
   "source": [
    "model_history = single_input_model_densenet201.fit(seg_train_data,\n",
    "                                       epochs=epoch_nbr,\n",
    "                                       steps_per_epoch=len(seg_train_data),\n",
    "                                       validation_data=seg_val_data,\n",
    "                                       validation_steps=len(seg_val_data))"
   ]
  },
  {
   "cell_type": "code",
   "execution_count": 16,
   "id": "681ea619",
   "metadata": {},
   "outputs": [
    {
     "data": {
      "image/png": "[encoded data removed]",
      "text/plain": [
       "<Figure size 432x288 with 1 Axes>"
      ]
     },
     "metadata": {
      "needs_background": "light"
     },
     "output_type": "display_data"
    },
    {
     "data": {
      "image/png": "[encoded data removed]",
      "text/plain": [
       "<Figure size 432x288 with 1 Axes>"
      ]
     },
     "metadata": {
      "needs_background": "light"
     },
     "output_type": "display_data"
    }
   ],
   "source": [
    "plot_loss_curves(model_history , 'accuracy' , 'val_accuracy')"
   ]
  },
  {
   "cell_type": "markdown",
   "id": "69e4e586",
   "metadata": {},
   "source": [
    "### Evaluation of model 2"
   ]
  },
  {
   "cell_type": "code",
   "execution_count": 17,
   "id": "98b060bd",
   "metadata": {},
   "outputs": [],
   "source": [
    "pred = single_input_model_densenet201.predict(seg_test_data)"
   ]
  },
  {
   "cell_type": "code",
   "execution_count": 18,
   "id": "0cf112a4",
   "metadata": {},
   "outputs": [],
   "source": [
    "correct_labels = seg_test_data.labels\n",
    "predicted_labels = np.argmax(pred,axis = 1)"
   ]
  },
  {
   "cell_type": "code",
   "execution_count": 19,
   "id": "34ddbf4f",
   "metadata": {},
   "outputs": [
    {
     "name": "stdout",
     "output_type": "stream",
     "text": [
      "0 = Benign, 1 = Early, 2 = Pre, 3 = Pro\n",
      "              precision    recall  f1-score   support\n",
      "\n",
      "           0       0.23      0.21      0.22        82\n",
      "           1       0.30      0.31      0.30       158\n",
      "           2       0.30      0.30      0.30       155\n",
      "           3       0.28      0.28      0.28       130\n",
      "\n",
      "    accuracy                           0.28       525\n",
      "   macro avg       0.28      0.27      0.28       525\n",
      "weighted avg       0.28      0.28      0.28       525\n",
      "\n"
     ]
    },
    {
     "data": {
      "image/png": "[encoded data removed]",
      "text/plain": [
       "<Figure size 432x288 with 2 Axes>"
      ]
     },
     "metadata": {
      "needs_background": "light"
     },
     "output_type": "display_data"
    }
   ],
   "source": [
    "#view results\n",
    "evaluation_metrics(correct_labels, predicted_labels)"
   ]
  },
  {
   "cell_type": "code",
   "execution_count": 20,
   "id": "42ba8b11",
   "metadata": {},
   "outputs": [],
   "source": [
    "# # Save a model\n",
    "single_input_model_densenet201.save(\"saved_model/single_input_model.h5\")"
   ]
  },
  {
   "cell_type": "code",
   "execution_count": null,
   "id": "9e666839",
   "metadata": {},
   "outputs": [],
   "source": []
  }
 ],
 "metadata": {
  "kernelspec": {
   "display_name": "Python 3",
   "language": "python",
   "name": "python3"
  },
  "language_info": {
   "codemirror_mode": {
    "name": "ipython",
    "version": 3
   },
   "file_extension": ".py",
   "mimetype": "text/x-python",
   "name": "python",
   "nbconvert_exporter": "python",
   "pygments_lexer": "ipython3",
   "version": "3.9.12"
  }
 },
 "nbformat": 4,
 "nbformat_minor": 5
}
