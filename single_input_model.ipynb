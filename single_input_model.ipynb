{
 "cells": [
  {
   "cell_type": "markdown",
   "id": "4dea762d",
   "metadata": {},
   "source": [
    "### Single input Model - Model 2\n",
    "In this file we build and train model 2 using the structure mentioned in the report. "
   ]
  },
  {
   "cell_type": "code",
   "execution_count": 1,
   "id": "3e244a46",
   "metadata": {},
   "outputs": [],
   "source": [
    "import os\n",
    "from dotenv import dotenv_values\n",
    "import numpy as np\n",
    "\n",
    "\n",
    "import tensorflow as tf\n",
    "import tensorflow.keras as keras\n",
    "from keras.preprocessing.image import ImageDataGenerator\n",
    "\n",
    "from scikitplot.metrics import plot_confusion_matrix\n",
    "from sklearn.metrics import classification_report\n",
    "\n",
    "import matplotlib.pyplot as plt"
   ]
  },
  {
   "cell_type": "code",
   "execution_count": 2,
   "id": "ab214135",
   "metadata": {},
   "outputs": [],
   "source": [
    "#get files from .env file\n",
    "config = dotenv_values(\".env\")"
   ]
  },
  {
   "cell_type": "code",
   "execution_count": 3,
   "id": "ce5fa141",
   "metadata": {},
   "outputs": [],
   "source": [
    "# define repetitive values\n",
    "raw_dir = config['RAW_PATH']\n",
    "\n",
    "img_dim = int(config['DIM'])\n",
    "batch_size = int(config['BATCH_SIZE'])\n",
    "epoch_nbr = int(config['EPOCH'])\n",
    "\n",
    "input_shape = (img_dim, img_dim, 3)"
   ]
  },
  {
   "cell_type": "code",
   "execution_count": 4,
   "id": "a65b23c2",
   "metadata": {},
   "outputs": [],
   "source": [
    "#in this code we are going to use the segmented dataset as the model's inut\n",
    "\n",
    "#Paths to segmented data\n",
    "seg_train_path = raw_dir + '/splitDataset/Segmented/train'\n",
    "seg_val_path = raw_dir + '/splitDataset/Segmented/val'\n",
    "seg_test_path = raw_dir + '/splitDataset/Segmented/test'"
   ]
  },
  {
   "cell_type": "markdown",
   "id": "895f25e8",
   "metadata": {},
   "source": [
    "#### helper functions"
   ]
  },
  {
   "cell_type": "code",
   "execution_count": 5,
   "id": "06f9a1ef",
   "metadata": {},
   "outputs": [],
   "source": [
    "# image data generator for train and val datasets\n",
    "# data augmentation is applied only on the traing dataset\n",
    "\n",
    "def image_data_generator():\n",
    "    train_datagen = ImageDataGenerator(\n",
    "        rescale = 1./255,\n",
    "        rotation_range = 20,\n",
    "        horizontal_flip = True,\n",
    "        shear_range=0.2, # shear the image\n",
    "        zoom_range=0.2, # zoom into the image\n",
    "        width_shift_range=0.2, # shift the image width ways\n",
    "        height_shift_range=0.2, # shift the image height ways\n",
    "    )\n",
    "    \n",
    "    validation_datagen = ImageDataGenerator(\n",
    "        rescale = 1./255, \n",
    "    )\n",
    "    \n",
    "    test_datagen = ImageDataGenerator(\n",
    "        rescale = 1./255, \n",
    "    )\n",
    "    \n",
    "    return [train_datagen, validation_datagen, test_datagen]"
   ]
  },
  {
   "cell_type": "code",
   "execution_count": 6,
   "id": "eda46366",
   "metadata": {},
   "outputs": [],
   "source": [
    "# Plot the validation and training data separately\n",
    "def plot_loss_curves(history , metric , val_metric):\n",
    "    \"\"\"\n",
    "    Returns separate loss curves for training and validation metrics.\n",
    "    \"\"\" \n",
    "    loss = history.history['loss']\n",
    "    val_loss = history.history['val_loss']\n",
    "\n",
    "    accuracy = history.history[metric]\n",
    "    val_accuracy = history.history[val_metric]\n",
    "\n",
    "    epochs = range(len(history.history['loss']))\n",
    "\n",
    "    # Plot loss\n",
    "    plt.plot(epochs, loss, label='training_loss')\n",
    "    plt.plot(epochs, val_loss, label='val_loss')\n",
    "    plt.title('Loss')\n",
    "    plt.xlabel('Epochs')\n",
    "    plt.legend()\n",
    "\n",
    "    # Plot accuracy\n",
    "    plt.figure()\n",
    "    plt.plot(epochs, accuracy, label='training_accuracy')\n",
    "    plt.plot(epochs, val_accuracy, label='val_accuracy')\n",
    "    plt.title('Accuracy')\n",
    "    plt.xlabel('Epochs')\n",
    "    plt.legend();"
   ]
  },
  {
   "cell_type": "code",
   "execution_count": 7,
   "id": "1fa71287",
   "metadata": {},
   "outputs": [],
   "source": [
    "def evaluation_metrics(actual, predicted):\n",
    "    class_names = ['Benign', 'Early', 'Pre', 'Pro']\n",
    "    print(f\"0 = {class_names[0]}, 1 = {class_names[1]}, 2 = {class_names[2]}, 3 = {class_names[3]}\")\n",
    "    print(classification_report(actual, predicted))\n",
    "    plot_confusion_matrix(actual,\n",
    "                          predicted,\n",
    "                          title = \"model 2 confusion matrix\")"
   ]
  },
  {
   "cell_type": "markdown",
   "id": "918de16b",
   "metadata": {},
   "source": [
    "#### build the model"
   ]
  },
  {
   "cell_type": "code",
   "execution_count": 8,
   "id": "66b73ac4",
   "metadata": {},
   "outputs": [],
   "source": [
    "#create data generators\n",
    "train_datagen, val_datagen, test_datagen = image_data_generator()"
   ]
  },
  {
   "cell_type": "code",
   "execution_count": 9,
   "id": "879c0f30",
   "metadata": {},
   "outputs": [
    {
     "name": "stdout",
     "output_type": "stream",
     "text": [
      "\n",
      "Segmented data set\n",
      "Augmented training images:\n",
      "Found 2082 images belonging to 4 classes.\n",
      "validation images:\n",
      "Found 649 images belonging to 4 classes.\n",
      "test images:\n",
      "Found 525 images belonging to 4 classes.\n"
     ]
    }
   ],
   "source": [
    "# Create segmented data batches\n",
    "print(\"\\nSegmented data set\")\n",
    "print(\"Augmented training images:\")\n",
    "seg_train_data = train_datagen.flow_from_directory(seg_train_path,\n",
    "                                               target_size=(img_dim, img_dim),\n",
    "                                               batch_size=batch_size,\n",
    "                                               class_mode='categorical',\n",
    "                                               shuffle=True) \n",
    "\n",
    "print(\"validation images:\")\n",
    "seg_val_data = val_datagen.flow_from_directory(seg_val_path,\n",
    "                                             target_size=(img_dim, img_dim),\n",
    "                                             batch_size=batch_size,\n",
    "                                             class_mode='categorical')\n",
    "print(\"test images:\")\n",
    "seg_test_data = test_datagen.flow_from_directory(seg_test_path,\n",
    "                                             target_size=(img_dim, img_dim),\n",
    "                                             batch_size=batch_size,\n",
    "                                             class_mode='categorical')"
   ]
  },
  {
   "cell_type": "code",
   "execution_count": 10,
   "id": "31eeb872",
   "metadata": {},
   "outputs": [],
   "source": [
    "# feature block\n",
    "\n",
    "densenet_model = keras.applications.DenseNet201(include_top=False,\n",
    "                                                weights=\"imagenet\",\n",
    "                                                input_tensor=None,\n",
    "                                                input_shape=input_shape,\n",
    "                                                pooling=None)"
   ]
  },
  {
   "cell_type": "code",
   "execution_count": 11,
   "id": "aa0ba228",
   "metadata": {},
   "outputs": [
    {
     "name": "stdout",
     "output_type": "stream",
     "text": [
      "nbr of trainable layers =  224\n"
     ]
    }
   ],
   "source": [
    "# with training case\n",
    "# By setting the trainable property of this model we created to True,\n",
    "# we allow the weights in trainable layers to be updated. \n",
    "\n",
    "densenet_model.trainable = True\n",
    "count = 0\n",
    "for layer in densenet_model.layers:\n",
    "    if 'conv5' in layer.name:\n",
    "        count = count + 1\n",
    "        layer.trainable = True\n",
    "    else:\n",
    "        layer.trainable = False\n",
    "\n",
    "print('nbr of trainable layers = ', count)"
   ]
  },
  {
   "cell_type": "code",
   "execution_count": 12,
   "id": "cff79a0b",
   "metadata": {},
   "outputs": [],
   "source": [
    "input = keras.Input(shape=input_shape)\n",
    "\n",
    "initializer = keras.initializers.he_normal(seed=32)\n",
    "\n",
    "layer_1 = densenet_model(inputs=input)\n",
    "layer_1 = keras.layers.Flatten()(layer_1)\n",
    "#batch normailzation\n",
    "layer_1 = keras.layers.BatchNormalization()(layer_1)\n",
    "    \n",
    "#Fully-connected block 1\n",
    "layer_1 = keras.layers.Dense(units=16,\n",
    "                             activation='relu',\n",
    "                             kernel_initializer=initializer,\n",
    "                             kernel_regularizer=keras.regularizers.l2(0.001)\n",
    "                            )(layer_1)\n",
    "layer_1 = keras.layers.BatchNormalization()(layer_1)\n",
    "layer_1 = keras.layers.LeakyReLU()(layer_1)\n",
    "layer_1 = keras.layers.Dropout(0.2)(layer_1)\n",
    "\n",
    "#Fully-connected block 2\n",
    "layer_1 = keras.layers.Dense(units=16,\n",
    "                             activation='relu',\n",
    "                             kernel_initializer=initializer,\n",
    "                             kernel_regularizer=keras.regularizers.l2(0.001)\n",
    "                            )(layer_1)\n",
    "\n",
    "layer_1 = keras.layers.BatchNormalization()(layer_1)\n",
    "layer_1 = keras.layers.ReLU()(layer_1)\n",
    "\n",
    "#Classifier block\n",
    "layer_1 = keras.layers.Dense(units=4,\n",
    "                             kernel_initializer=initializer,\n",
    "                             activation='softmax'\n",
    "                            )(layer_1)\n"
   ]
  },
  {
   "cell_type": "code",
   "execution_count": 13,
   "id": "dd3c6707",
   "metadata": {},
   "outputs": [
    {
     "name": "stdout",
     "output_type": "stream",
     "text": [
      "Model: \"model\"\n",
      "_________________________________________________________________\n",
      "Layer (type)                 Output Shape              Param #   \n",
      "=================================================================\n",
      "input_2 (InputLayer)         [(None, 224, 224, 3)]     0         \n",
      "_________________________________________________________________\n",
      "densenet201 (Functional)     (None, 7, 7, 1920)        18321984  \n",
      "_________________________________________________________________\n",
      "flatten (Flatten)            (None, 94080)             0         \n",
      "_________________________________________________________________\n",
      "batch_normalization (BatchNo (None, 94080)             376320    \n",
      "_________________________________________________________________\n",
      "dense (Dense)                (None, 16)                1505296   \n",
      "_________________________________________________________________\n",
      "batch_normalization_1 (Batch (None, 16)                64        \n",
      "_________________________________________________________________\n",
      "leaky_re_lu (LeakyReLU)      (None, 16)                0         \n",
      "_________________________________________________________________\n",
      "dropout (Dropout)            (None, 16)                0         \n",
      "_________________________________________________________________\n",
      "dense_1 (Dense)              (None, 16)                272       \n",
      "_________________________________________________________________\n",
      "batch_normalization_2 (Batch (None, 16)                64        \n",
      "_________________________________________________________________\n",
      "re_lu (ReLU)                 (None, 16)                0         \n",
      "_________________________________________________________________\n",
      "dense_2 (Dense)              (None, 4)                 68        \n",
      "=================================================================\n",
      "Total params: 20,204,068\n",
      "Trainable params: 8,672,420\n",
      "Non-trainable params: 11,531,648\n",
      "_________________________________________________________________\n"
     ]
    }
   ],
   "source": [
    "single_input_model_densenet201 = keras.models.Model(inputs=input, outputs=layer_1)\n",
    "single_input_model_densenet201.summary()"
   ]
  },
  {
   "cell_type": "code",
   "execution_count": 14,
   "id": "5d620a2c",
   "metadata": {},
   "outputs": [],
   "source": [
    "# compile model\n",
    "single_input_model_densenet201.compile(loss='binary_crossentropy',\n",
    "            optimizer=keras.optimizers.Adam(),\n",
    "            metrics=['accuracy'])"
   ]
  },
  {
   "cell_type": "code",
   "execution_count": null,
   "id": "ffa45a11",
   "metadata": {},
   "outputs": [
    {
     "name": "stdout",
     "output_type": "stream",
     "text": [
      "Epoch 1/100\n",
      "66/66 [==============================] - 1130s 16s/step - loss: 0.5491 - accuracy: 0.6993 - val_loss: 0.4424 - val_accuracy: 0.6949\n",
      "Epoch 2/100\n",
      "66/66 [==============================] - 1051s 16s/step - loss: 0.3945 - accuracy: 0.9150 - val_loss: 0.3134 - val_accuracy: 0.9045\n",
      "Epoch 3/100\n",
      "66/66 [==============================] - 1028s 16s/step - loss: 0.3056 - accuracy: 0.9409 - val_loss: 0.2501 - val_accuracy: 0.9630\n",
      "Epoch 4/100\n",
      "66/66 [==============================] - 1030s 16s/step - loss: 0.2538 - accuracy: 0.9409 - val_loss: 0.5779 - val_accuracy: 0.6333\n",
      "Epoch 5/100\n",
      "66/66 [==============================] - 1031s 16s/step - loss: 0.2152 - accuracy: 0.9452 - val_loss: 0.5315 - val_accuracy: 0.5193\n",
      "Epoch 6/100\n",
      "66/66 [==============================] - 1038s 16s/step - loss: 0.1949 - accuracy: 0.9443 - val_loss: 0.1464 - val_accuracy: 0.9569\n",
      "Epoch 7/100\n",
      "66/66 [==============================] - 1050s 16s/step - loss: 0.1559 - accuracy: 0.9621 - val_loss: 0.1174 - val_accuracy: 0.9676\n",
      "Epoch 8/100\n",
      "66/66 [==============================] - 1044s 16s/step - loss: 0.1431 - accuracy: 0.9563 - val_loss: 0.1159 - val_accuracy: 0.9569\n",
      "Epoch 9/100\n",
      "66/66 [==============================] - 1057s 16s/step - loss: 0.1296 - accuracy: 0.9625 - val_loss: 0.0887 - val_accuracy: 0.9753\n",
      "Epoch 10/100\n",
      "66/66 [==============================] - 1051s 16s/step - loss: 0.1190 - accuracy: 0.9635 - val_loss: 0.0862 - val_accuracy: 0.9738\n",
      "Epoch 11/100\n",
      "66/66 [==============================] - 1040s 16s/step - loss: 0.1148 - accuracy: 0.9616 - val_loss: 0.0918 - val_accuracy: 0.9676\n",
      "Epoch 12/100\n",
      "66/66 [==============================] - 1052s 16s/step - loss: 0.1104 - accuracy: 0.9606 - val_loss: 0.1080 - val_accuracy: 0.9538\n",
      "Epoch 13/100\n",
      "66/66 [==============================] - 1091s 17s/step - loss: 0.1005 - accuracy: 0.9697 - val_loss: 0.0843 - val_accuracy: 0.9646\n",
      "Epoch 14/100\n",
      "66/66 [==============================] - 1044s 16s/step - loss: 0.0977 - accuracy: 0.9659 - val_loss: 0.0748 - val_accuracy: 0.9692\n",
      "Epoch 15/100\n",
      "66/66 [==============================] - 1038s 16s/step - loss: 0.0870 - accuracy: 0.9717 - val_loss: 0.0734 - val_accuracy: 0.9769\n",
      "Epoch 16/100\n",
      "66/66 [==============================] - 1039s 16s/step - loss: 0.0805 - accuracy: 0.9717 - val_loss: 0.0791 - val_accuracy: 0.9676\n",
      "Epoch 17/100\n",
      "66/66 [==============================] - 1094s 17s/step - loss: 0.0845 - accuracy: 0.9683 - val_loss: 0.0728 - val_accuracy: 0.9815\n",
      "Epoch 18/100\n",
      "66/66 [==============================] - 1029s 16s/step - loss: 0.0877 - accuracy: 0.9640 - val_loss: 0.0561 - val_accuracy: 0.9815\n",
      "Epoch 19/100\n",
      "66/66 [==============================] - 1027s 16s/step - loss: 0.0890 - accuracy: 0.9645 - val_loss: 0.0600 - val_accuracy: 0.9784\n",
      "Epoch 20/100\n",
      "66/66 [==============================] - 1032s 16s/step - loss: 0.0840 - accuracy: 0.9717 - val_loss: 0.0635 - val_accuracy: 0.9800\n",
      "Epoch 21/100\n",
      "66/66 [==============================] - 1024s 16s/step - loss: 0.0779 - accuracy: 0.9755 - val_loss: 0.0699 - val_accuracy: 0.9769\n",
      "Epoch 22/100\n",
      "66/66 [==============================] - 1026s 16s/step - loss: 0.0913 - accuracy: 0.9659 - val_loss: 0.1116 - val_accuracy: 0.9522\n",
      "Epoch 23/100\n",
      "66/66 [==============================] - 1030s 16s/step - loss: 0.0754 - accuracy: 0.9741 - val_loss: 0.1169 - val_accuracy: 0.9399\n",
      "Epoch 24/100\n",
      "66/66 [==============================] - 1028s 16s/step - loss: 0.0833 - accuracy: 0.9693 - val_loss: 0.0675 - val_accuracy: 0.9753\n",
      "Epoch 25/100\n",
      "66/66 [==============================] - 1030s 16s/step - loss: 0.0838 - accuracy: 0.9697 - val_loss: 0.0722 - val_accuracy: 0.9769\n",
      "Epoch 26/100\n",
      "66/66 [==============================] - 1028s 16s/step - loss: 0.0838 - accuracy: 0.9673 - val_loss: 0.0642 - val_accuracy: 0.9784\n",
      "Epoch 27/100\n",
      "66/66 [==============================] - 1047s 16s/step - loss: 0.1159 - accuracy: 0.9597 - val_loss: 1.2170 - val_accuracy: 0.6364\n",
      "Epoch 28/100\n",
      "66/66 [==============================] - 1027s 16s/step - loss: 0.1399 - accuracy: 0.9664 - val_loss: 0.1748 - val_accuracy: 0.9353\n",
      "Epoch 29/100\n",
      "66/66 [==============================] - 1028s 16s/step - loss: 0.1225 - accuracy: 0.9669 - val_loss: 0.0959 - val_accuracy: 0.9784\n",
      "Epoch 30/100\n",
      "66/66 [==============================] - 1034s 16s/step - loss: 0.1164 - accuracy: 0.9688 - val_loss: 0.1024 - val_accuracy: 0.9738\n",
      "Epoch 31/100\n",
      "66/66 [==============================] - 1027s 16s/step - loss: 0.1047 - accuracy: 0.9731 - val_loss: 0.1123 - val_accuracy: 0.9707\n",
      "Epoch 32/100\n",
      "66/66 [==============================] - 1029s 16s/step - loss: 0.1148 - accuracy: 0.9659 - val_loss: 0.1045 - val_accuracy: 0.9707\n",
      "Epoch 33/100\n",
      "66/66 [==============================] - 1036s 16s/step - loss: 0.1111 - accuracy: 0.9659 - val_loss: 0.0894 - val_accuracy: 0.9831\n",
      "Epoch 34/100\n",
      "66/66 [==============================] - 1027s 16s/step - loss: 0.0983 - accuracy: 0.9741 - val_loss: 0.0910 - val_accuracy: 0.9784\n",
      "Epoch 35/100\n",
      "66/66 [==============================] - 1029s 16s/step - loss: 0.1000 - accuracy: 0.9736 - val_loss: 0.1096 - val_accuracy: 0.9676\n",
      "Epoch 36/100\n",
      "66/66 [==============================] - 951s 14s/step - loss: 0.0950 - accuracy: 0.9745 - val_loss: 0.0984 - val_accuracy: 0.9707\n",
      "Epoch 37/100\n",
      "66/66 [==============================] - 789s 12s/step - loss: 0.0839 - accuracy: 0.9798 - val_loss: 0.0817 - val_accuracy: 0.9831\n",
      "Epoch 38/100\n",
      "66/66 [==============================] - 715s 11s/step - loss: 0.0977 - accuracy: 0.9745 - val_loss: 0.0842 - val_accuracy: 0.9831\n",
      "Epoch 39/100\n",
      "66/66 [==============================] - 620s 9s/step - loss: 0.0871 - accuracy: 0.9837 - val_loss: 0.0984 - val_accuracy: 0.9692\n",
      "Epoch 40/100\n",
      "66/66 [==============================] - 734s 11s/step - loss: 0.0894 - accuracy: 0.9769 - val_loss: 0.0755 - val_accuracy: 0.9877\n",
      "Epoch 41/100\n",
      "66/66 [==============================] - 751s 11s/step - loss: 0.0908 - accuracy: 0.9741 - val_loss: 0.0964 - val_accuracy: 0.9723\n",
      "Epoch 42/100\n",
      "66/66 [==============================] - 655s 10s/step - loss: 0.1044 - accuracy: 0.9721 - val_loss: 0.0857 - val_accuracy: 0.9815\n",
      "Epoch 43/100\n",
      "66/66 [==============================] - 652s 10s/step - loss: 0.0887 - accuracy: 0.9784 - val_loss: 0.0734 - val_accuracy: 0.9831\n",
      "Epoch 44/100\n",
      "66/66 [==============================] - 670s 10s/step - loss: 0.0774 - accuracy: 0.9832 - val_loss: 0.0773 - val_accuracy: 0.9753\n",
      "Epoch 45/100\n",
      "66/66 [==============================] - 686s 10s/step - loss: 0.0821 - accuracy: 0.9784 - val_loss: 0.0923 - val_accuracy: 0.9753\n",
      "Epoch 46/100\n",
      "66/66 [==============================] - 760s 12s/step - loss: 0.0815 - accuracy: 0.9803 - val_loss: 0.1132 - val_accuracy: 0.9630\n",
      "Epoch 47/100\n",
      "66/66 [==============================] - ETA: 0s - loss: 0.0772 - accuracy: 0.9870"
     ]
    }
   ],
   "source": [
    "model_history = single_input_model_densenet201.fit(seg_train_data,\n",
    "                                       epochs=epoch_nbr,\n",
    "                                       steps_per_epoch=len(seg_train_data),\n",
    "                                       validation_data=seg_val_data,\n",
    "                                       validation_steps=len(seg_val_data))"
   ]
  },
  {
   "cell_type": "code",
   "execution_count": null,
   "id": "681ea619",
   "metadata": {},
   "outputs": [],
   "source": [
    "plot_loss_curves(model_history , 'accuracy' , 'val_accuracy')"
   ]
  },
  {
   "cell_type": "markdown",
   "id": "69e4e586",
   "metadata": {},
   "source": [
    "### Evaluation of model 2"
   ]
  },
  {
   "cell_type": "code",
   "execution_count": null,
   "id": "98b060bd",
   "metadata": {},
   "outputs": [],
   "source": [
    "pred = single_input_model_densenet201.predict(seg_test_data)"
   ]
  },
  {
   "cell_type": "code",
   "execution_count": null,
   "id": "0cf112a4",
   "metadata": {},
   "outputs": [],
   "source": [
    "correct_labels = seg_test_data.labels\n",
    "predicted_labels = np.argmax(pred,axis = 1)"
   ]
  },
  {
   "cell_type": "code",
   "execution_count": null,
   "id": "34ddbf4f",
   "metadata": {},
   "outputs": [],
   "source": [
    "#view results\n",
    "evaluation_metrics(correct_labels, predicted_labels)"
   ]
  },
  {
   "cell_type": "code",
   "execution_count": null,
   "id": "42ba8b11",
   "metadata": {},
   "outputs": [],
   "source": [
    "# # Save a model\n",
    "single_input_model_densenet201.save(\"saved_model/single_input_model.h5\")"
   ]
  },
  {
   "cell_type": "code",
   "execution_count": null,
   "id": "9e666839",
   "metadata": {},
   "outputs": [],
   "source": []
  }
 ],
 "metadata": {
  "kernelspec": {
   "display_name": "Python 3",
   "language": "python",
   "name": "python3"
  },
  "language_info": {
   "codemirror_mode": {
    "name": "ipython",
    "version": 3
   },
   "file_extension": ".py",
   "mimetype": "text/x-python",
   "name": "python",
   "nbconvert_exporter": "python",
   "pygments_lexer": "ipython3",
   "version": "3.9.12"
  }
 },
 "nbformat": 4,
 "nbformat_minor": 5
}
